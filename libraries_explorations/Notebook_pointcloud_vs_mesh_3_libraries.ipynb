{
 "metadata": {
  "language_info": {
   "codemirror_mode": {
    "name": "ipython",
    "version": 3
   },
   "file_extension": ".py",
   "mimetype": "text/x-python",
   "name": "python",
   "nbconvert_exporter": "python",
   "pygments_lexer": "ipython3",
   "version": "3.7.5-final"
  },
  "orig_nbformat": 2,
  "kernelspec": {
   "name": "python3",
   "display_name": "Python 3",
   "language": "python"
  }
 },
 "nbformat": 4,
 "nbformat_minor": 2,
 "cells": [
  {
   "cell_type": "code",
   "execution_count": 1,
   "metadata": {},
   "outputs": [],
   "source": [
    "import vedo\n",
    "import pymesh\n",
    "import trimesh"
   ]
  },
  {
   "cell_type": "code",
   "execution_count": 2,
   "metadata": {},
   "outputs": [
    {
     "output_type": "stream",
     "name": "stdout",
     "text": [
      "Collecting git+https://github.com/marcomusy/vtkplotter.git\n",
      "  Cloning https://github.com/marcomusy/vtkplotter.git to /private/var/folders/4g/s1b1rk9n7jlgpn5z46j3s62h0000gn/T/pip-req-build-y6bs8gsz\n",
      "Requirement already satisfied, skipping upgrade: vtk in /Users/shirzart/.pyenv/versions/3.7.5/envs/iBrus/lib/python3.7/site-packages (from vedo==2020.4.2) (9.0.1)\n",
      "Requirement already satisfied, skipping upgrade: numpy in /Users/shirzart/.pyenv/versions/3.7.5/envs/iBrus/lib/python3.7/site-packages (from vedo==2020.4.2) (1.18.5)\n",
      "Building wheels for collected packages: vedo\n",
      "  Building wheel for vedo (setup.py) ... \u001b[?25ldone\n",
      "\u001b[?25h  Created wheel for vedo: filename=vedo-2020.4.2-py3-none-any.whl size=9269367 sha256=72ea1231708ac1dda6e7b5432b408c3338465c9225c69cca9bda55c325308c38\n",
      "  Stored in directory: /private/var/folders/4g/s1b1rk9n7jlgpn5z46j3s62h0000gn/T/pip-ephem-wheel-cache-dfh1xou2/wheels/b2/0e/d0/33e69986d7f6eed8a7236752643e888351c0478f7bf0816fc1\n",
      "Successfully built vedo\n",
      "Installing collected packages: vedo\n",
      "  Attempting uninstall: vedo\n",
      "    Found existing installation: vedo 2020.4.2\n",
      "    Uninstalling vedo-2020.4.2:\n",
      "      Successfully uninstalled vedo-2020.4.2\n",
      "Successfully installed vedo-2020.4.2\n",
      "\u001b[33mWARNING: You are using pip version 20.2.3; however, version 20.3.1 is available.\n",
      "You should consider upgrading via the '/Users/shirzart/.pyenv/versions/3.7.5/envs/iBrus/bin/python3.7 -m pip install --upgrade pip' command.\u001b[0m\n"
     ]
    }
   ],
   "source": [
    "! pip install -U git+https://github.com/marcomusy/vtkplotter.git"
   ]
  },
  {
   "cell_type": "code",
   "execution_count": 4,
   "metadata": {},
   "outputs": [
    {
     "output_type": "stream",
     "name": "stdout",
     "text": [
      "/bin/sh: vtkplotter: command not found\n"
     ]
    }
   ],
   "source": [
    "! vtkplotter -ir tet_cutmesh1"
   ]
  },
  {
   "cell_type": "code",
   "execution_count": null,
   "metadata": {},
   "outputs": [],
   "source": []
  }
 ]
}