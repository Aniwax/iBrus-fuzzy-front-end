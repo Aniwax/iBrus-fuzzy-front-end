{
 "metadata": {
  "language_info": {
   "codemirror_mode": {
    "name": "ipython",
    "version": 3
   },
   "file_extension": ".py",
   "mimetype": "text/x-python",
   "name": "python",
   "nbconvert_exporter": "python",
   "pygments_lexer": "ipython3",
   "version": "3.7.5-final"
  },
  "orig_nbformat": 2,
  "kernelspec": {
   "name": "python3",
   "display_name": "Python 3.7.5 64-bit ('iBrus')",
   "metadata": {
    "interpreter": {
     "hash": "72d30dc0c526e9a9e27776afd4c4229b75576606989f345312ef0e8fc67d3490"
    }
   }
  }
 },
 "nbformat": 4,
 "nbformat_minor": 2,
 "cells": [
  {
   "cell_type": "code",
   "execution_count": 1,
   "metadata": {},
   "outputs": [],
   "source": [
    "import vedo"
   ]
  },
  {
   "cell_type": "code",
   "execution_count": 2,
   "metadata": {},
   "outputs": [
    {
     "output_type": "stream",
     "name": "stdout",
     "text": [
      "\u001b[1m\u001b[38;2;244;129;47mMultirendering is not supported in jupyter.\u001b[0m\n"
     ]
    }
   ],
   "source": [
    "\"\"\"Boolean operations with Meshes\"\"\"\n",
    "from vedo import *\n",
    "import time\n",
    "# declare the instance of the class\n",
    "vp = Plotter(shape=(2, 2), interactive=0, axes=3)\n",
    "\n",
    "\n",
    "# build to sphere meshes\n",
    "s1 = Sphere(pos=[-0.7, 0, 0], c=\"r\", alpha=0.5)\n",
    "s2 = Sphere(pos=[0.7, 0, 0], c=\"g\", alpha=0.5)\n",
    "\n",
    "vp.show(s1, s2, __doc__, at=0)\n"
   ]
  },
  {
   "cell_type": "code",
   "execution_count": null,
   "metadata": {},
   "outputs": [],
   "source": [
    "\n",
    "\n",
    "\n",
    "# make 3 different possible operations:\n",
    "start_time_intersect = time.time()\n",
    "b1 = s1.boolean(\"intersect\", s2).c('m').legend(\"intersect\")\n",
    "\n",
    "end_time_intersect = time.time()\n",
    "process_time_intersect = end_time_intersect - start_time_intersect\n",
    "print(f\"Boolean operations time for intersections is {process_time_intersect}\")\n",
    "vp.show(b1, at=1, resetcam=False)\n",
    "\n",
    "\n",
    "b2 = s1.boolean(\"plus\", s2).c(\"b\").wireframe(True).legend(\"plus\")\n",
    "vp.show(b2, at=2, resetcam=False)\n",
    "\n",
    "b3 = s1.boolean(\"minus\", s2).legend(\"minus\").addScalarBar(c='w')\n",
    "vp.show(b3, at=3, resetcam=False)\n",
    "\n",
    "interactive(        )"
   ]
  },
  {
   "cell_type": "code",
   "execution_count": null,
   "metadata": {},
   "outputs": [],
   "source": [
    "box_1 = Sphere()"
   ]
  }
 ]
}