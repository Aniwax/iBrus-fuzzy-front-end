{
 "metadata": {
  "language_info": {
   "codemirror_mode": {
    "name": "ipython",
    "version": 3
   },
   "file_extension": ".py",
   "mimetype": "text/x-python",
   "name": "python",
   "nbconvert_exporter": "python",
   "pygments_lexer": "ipython3",
   "version": "3.7.5-final"
  },
  "orig_nbformat": 2,
  "kernelspec": {
   "name": "python3",
   "display_name": "Python 3.7.5 64-bit ('iBrus')",
   "metadata": {
    "interpreter": {
     "hash": "72d30dc0c526e9a9e27776afd4c4229b75576606989f345312ef0e8fc67d3490"
    }
   }
  }
 },
 "nbformat": 4,
 "nbformat_minor": 2,
 "cells": [
  {
   "source": [
    "# This notebook is created to try out different things before implementing the efficiency test on pymesh"
   ],
   "cell_type": "markdown",
   "metadata": {}
  },
  {
   "cell_type": "code",
   "execution_count": 1,
   "metadata": {},
   "outputs": [],
   "source": [
    "import pymesh\n",
    "import numpy as np"
   ]
  },
  {
   "cell_type": "code",
   "execution_count": 2,
   "metadata": {},
   "outputs": [],
   "source": [
    "box_1 = pymesh.generate_box_mesh(box_min = np.array([0, 0, 0]), box_max = np.array([25, 25, 25]))"
   ]
  },
  {
   "cell_type": "code",
   "execution_count": 3,
   "metadata": {},
   "outputs": [],
   "source": [
    "box_small_1 = pymesh.generate_box_mesh(box_min = np.array([0, 0, 0]), box_max = np.array([1, 1, 1]))\n",
    "\n",
    "box_small_2 = pymesh.generate_box_mesh(box_min = np.array([0.5, 0.5, 0.5]), \n",
    "box_max = np.array([1.5, 1.5, 1.5]))"
   ]
  },
  {
   "cell_type": "code",
   "execution_count": 5,
   "metadata": {},
   "outputs": [
    {
     "output_type": "stream",
     "name": "stdout",
     "text": [
      "CPU times: user 3 µs, sys: 1e+03 ns, total: 4 µs\nWall time: 21 µs\n"
     ]
    }
   ],
   "source": [
    "%time \n",
    "output_mesh = pymesh.boolean(box_small_1, box_small_2,operation='intersection')"
   ]
  },
  {
   "cell_type": "code",
   "execution_count": 6,
   "metadata": {},
   "outputs": [
    {
     "output_type": "stream",
     "name": "stdout",
     "text": [
      "CPU times: user 3 µs, sys: 0 ns, total: 3 µs\nWall time: 5.96 µs\n"
     ]
    }
   ],
   "source": [
    "%time \n",
    "output_mesh_cgal = pymesh.boolean(box_small_1, box_small_2,operation='intersection', engine='cgal')"
   ]
  },
  {
   "source": [
    "## Now we try building a union of three boxes. "
   ],
   "cell_type": "markdown",
   "metadata": {}
  },
  {
   "cell_type": "code",
   "execution_count": 7,
   "metadata": {},
   "outputs": [],
   "source": [
    "box_sd_1 = pymesh.generate_box_mesh(box_min = np.array([0, 0, 0]), box_max = np.array([1, 1, 1]))\n",
    "\n",
    "box_sd_2 = pymesh.generate_box_mesh(box_min = np.array([1.5, 0, 0]), \n",
    "box_max = np.array([2.5, 1, 1]))\n",
    "\n",
    "box_sd_3 = pymesh.generate_box_mesh(box_min = np.array([3.5, 0, 0]), \n",
    "box_max = np.array([4.5, 1, 1]))"
   ]
  },
  {
   "cell_type": "code",
   "execution_count": 8,
   "metadata": {},
   "outputs": [],
   "source": [
    "csg = pymesh.CSGTree({'union': [{\"mesh\": box_sd_1}, {\"mesh\": box_sd_2}, {\"mesh\": box_sd_3}]})"
   ]
  },
  {
   "cell_type": "code",
   "execution_count": 9,
   "metadata": {},
   "outputs": [],
   "source": [
    "# Generate a grid of cubes and their union \n",
    "number = 5\n",
    "distance = 4 \n",
    "list_of_grain_dict = []\n",
    "scale = 1\n",
    "\n",
    "for element in range(number):\n",
    "    for iterator in range(number ** 2):\n",
    "        reminder = iterator % number\n",
    "        if reminder == 0:\n",
    "            position = iterator // number\n",
    "        else:\n",
    "            position = reminder \n",
    "        new_grain =  pymesh.generate_box_mesh(\n",
    "            box_min = np.array([element * distance, position * distance, number * distance]), \n",
    "            box_max = np.array([element * distance + scale, position * distance + scale, number * distance + scale]))\n",
    "        new_grain_dict = {\"mesh\": new_grain}\n",
    "        list_of_grain_dict.append(new_grain_dict)\n",
    "\n",
    "\n",
    "\n"
   ]
  },
  {
   "cell_type": "code",
   "execution_count": 10,
   "metadata": {},
   "outputs": [
    {
     "output_type": "stream",
     "name": "stdout",
     "text": [
      "CPU times: user 2.97 s, sys: 144 ms, total: 3.12 s\nWall time: 1.83 s\n"
     ]
    }
   ],
   "source": [
    "%%time\n",
    "CSG_grid_generation = pymesh.CSGTree({'union': list_of_grain_dict})"
   ]
  },
  {
   "cell_type": "code",
   "execution_count": 11,
   "metadata": {},
   "outputs": [
    {
     "output_type": "stream",
     "name": "stdout",
     "text": [
      "CPU times: user 1.77 ms, sys: 1.41 ms, total: 3.18 ms\nWall time: 31 ms\n"
     ]
    }
   ],
   "source": [
    "%%time\n",
    "# generate the cube block that sits beneath the grain\n",
    "cube_block = pymesh.generate_box_mesh(box_min = [0, 0, 0], box_max = [number * distance + 1, number * distance + scale + 1, number * distance + scale])\n",
    "\n",
    "cube_block_dict = {\"mesh\": cube_block}"
   ]
  },
  {
   "cell_type": "code",
   "execution_count": 12,
   "metadata": {},
   "outputs": [],
   "source": [
    "CSG_entire_tree = pymesh.CSGTree({'difference': [cube_block_dict, CSG_grid_generation]})"
   ]
  },
  {
   "cell_type": "code",
   "execution_count": 13,
   "metadata": {},
   "outputs": [],
   "source": [
    "output_mesh = CSG_entire_tree.mesh"
   ]
  },
  {
   "cell_type": "code",
   "execution_count": 14,
   "metadata": {},
   "outputs": [],
   "source": [
    "pymesh.save_mesh(\"pymesh_25grid_cube_difference.stl\", output_mesh)"
   ]
  },
  {
   "cell_type": "code",
   "execution_count": 15,
   "metadata": {},
   "outputs": [],
   "source": [
    "import vedo\n",
    "from vedo import *\n",
    "load_pymesh = vedo.load(\"pymesh_25grid_cube_difference.stl\")\n"
   ]
  },
  {
   "cell_type": "code",
   "execution_count": 16,
   "metadata": {},
   "outputs": [
    {
     "output_type": "display_data",
     "data": {
      "text/plain": "Plot(antialias=3, axes=['x', 'y', 'z'], axes_helper=1.0, background_color=16777215, camera=[10.869594372251527…",
      "application/vnd.jupyter.widget-view+json": {
       "version_major": 2,
       "version_minor": 0,
       "model_id": "f2069646ef8c4769bee516048e83d1b4"
      }
     },
     "metadata": {}
    }
   ],
   "source": [
    "vp = Plotter(shape=(1, 1), interactive=0, axes=3)\n",
    "vp.show(load_pymesh, at=0)"
   ]
  },
  {
   "source": [
    "## Time comparison between 2 different intersection method: intersect & loop  VS union & intersect"
   ],
   "cell_type": "markdown",
   "metadata": {}
  },
  {
   "cell_type": "code",
   "execution_count": 71,
   "metadata": {},
   "outputs": [],
   "source": [
    "# Generate a grid of cubes and the cube beneath\n",
    "number = 10\n",
    "distance = 4 \n",
    "list_of_grain_dict = []\n",
    "scale = 1\n",
    "grain = pymesh.load_mesh(\"grains/Cuboctahedron.stl\")\n",
    "\n",
    "for element in range(number):\n",
    "    for iterator in range(number ** 2):\n",
    "        reminder = iterator % number\n",
    "        if reminder == 0:\n",
    "            position = iterator // number\n",
    "        else:\n",
    "            position = reminder \n",
    "\n",
    "        new_grain =  pymesh.generate_box_mesh(\n",
    "            box_min = np.array([element * distance, position * distance, number * distance]), \n",
    "            box_max = np.array([element * distance + scale, position * distance + scale, number * distance + scale]))\n",
    "        new_grain_dict = {\"mesh\": new_grain}\n",
    "        list_of_grain_dict.append(new_grain_dict)\n",
    "\n",
    "# generate the cube block that sits beneath the grain\n",
    "cube_block = pymesh.generate_box_mesh(box_min = [0, 0, 0], box_max = [number * distance + 1, number * distance + scale + 1, number * distance + scale])\n",
    "\n",
    "cube_block_dict = {\"mesh\": cube_block}\n"
   ]
  },
  {
   "cell_type": "code",
   "execution_count": 67,
   "metadata": {},
   "outputs": [],
   "source": [
    "# using a grid of mesh\n",
    "# Generate a grid of mesh and the cube beneath\n",
    "number = 20\n",
    "distance = 4 \n",
    "list_of_grain_dict = []\n",
    "scale = 1\n",
    "grain_raw_mesh = pymesh.load_mesh(\"grains/Cuboctahedron.stl\")\n",
    "\n",
    "for element in range(number):\n",
    "    for iterator in range(number ** 2):\n",
    "        reminder = iterator % number\n",
    "        if reminder == 0:\n",
    "            position = iterator // number\n",
    "        else:\n",
    "            position = reminder \n",
    "\n",
    "        new_grain =  pymesh.form_mesh(grain_raw_mesh.vertices + [element * distance + scale, position * distance + scale, number * distance + scale], grain_raw_mesh.faces)\n",
    "        new_grain_dict = {\"mesh\": new_grain}\n",
    "        list_of_grain_dict.append(new_grain_dict)\n",
    "\n",
    "# generate the cube block that sits beneath the grain\n",
    "cube_block = pymesh.generate_box_mesh(box_min = [0, 0, 0], box_max = [number * distance + 1, number * distance + scale + 1, number * distance + scale])\n",
    "\n",
    "cube_block_dict = {\"mesh\": cube_block}"
   ]
  },
  {
   "cell_type": "code",
   "execution_count": 73,
   "metadata": {},
   "outputs": [
    {
     "output_type": "error",
     "ename": "KeyboardInterrupt",
     "evalue": "",
     "traceback": [
      "\u001b[0;31m---------------------------------------------------------------------------\u001b[0m",
      "\u001b[0;31mKeyboardInterrupt\u001b[0m                         Traceback (most recent call last)",
      "\u001b[0;32m<ipython-input-73-0d52434bdf4c>\u001b[0m in \u001b[0;36m<module>\u001b[0;34m()\u001b[0m\n\u001b[0;32m----> 1\u001b[0;31m \u001b[0mget_ipython\u001b[0m\u001b[0;34m(\u001b[0m\u001b[0;34m)\u001b[0m\u001b[0;34m.\u001b[0m\u001b[0mrun_cell_magic\u001b[0m\u001b[0;34m(\u001b[0m\u001b[0;34m'time'\u001b[0m\u001b[0;34m,\u001b[0m \u001b[0;34m''\u001b[0m\u001b[0;34m,\u001b[0m \u001b[0;34m\"for element in list_of_grain_dict:\\n    CSG_iteration_tree = pymesh.CSGTree({'difference': [cube_block_dict, element]})\\n    cube_block_dict = CSG_iteration_tree\"\u001b[0m\u001b[0;34m)\u001b[0m\u001b[0;34m\u001b[0m\u001b[0;34m\u001b[0m\u001b[0m\n\u001b[0m",
      "\u001b[0;32m/Users/shirzart/.pyenv/versions/iBrus/lib/python3.7/site-packages/IPython/core/interactiveshell.py\u001b[0m in \u001b[0;36mrun_cell_magic\u001b[0;34m(self, magic_name, line, cell)\u001b[0m\n\u001b[1;32m   2115\u001b[0m             \u001b[0mmagic_arg_s\u001b[0m \u001b[0;34m=\u001b[0m \u001b[0mself\u001b[0m\u001b[0;34m.\u001b[0m\u001b[0mvar_expand\u001b[0m\u001b[0;34m(\u001b[0m\u001b[0mline\u001b[0m\u001b[0;34m,\u001b[0m \u001b[0mstack_depth\u001b[0m\u001b[0;34m)\u001b[0m\u001b[0;34m\u001b[0m\u001b[0;34m\u001b[0m\u001b[0m\n\u001b[1;32m   2116\u001b[0m             \u001b[0;32mwith\u001b[0m \u001b[0mself\u001b[0m\u001b[0;34m.\u001b[0m\u001b[0mbuiltin_trap\u001b[0m\u001b[0;34m:\u001b[0m\u001b[0;34m\u001b[0m\u001b[0;34m\u001b[0m\u001b[0m\n\u001b[0;32m-> 2117\u001b[0;31m                 \u001b[0mresult\u001b[0m \u001b[0;34m=\u001b[0m \u001b[0mfn\u001b[0m\u001b[0;34m(\u001b[0m\u001b[0mmagic_arg_s\u001b[0m\u001b[0;34m,\u001b[0m \u001b[0mcell\u001b[0m\u001b[0;34m)\u001b[0m\u001b[0;34m\u001b[0m\u001b[0;34m\u001b[0m\u001b[0m\n\u001b[0m\u001b[1;32m   2118\u001b[0m             \u001b[0;32mreturn\u001b[0m \u001b[0mresult\u001b[0m\u001b[0;34m\u001b[0m\u001b[0;34m\u001b[0m\u001b[0m\n\u001b[1;32m   2119\u001b[0m \u001b[0;34m\u001b[0m\u001b[0m\n",
      "\u001b[0;32m<decorator-gen-53>\u001b[0m in \u001b[0;36mtime\u001b[0;34m(self, line, cell, local_ns)\u001b[0m\n",
      "\u001b[0;32m/Users/shirzart/.pyenv/versions/iBrus/lib/python3.7/site-packages/IPython/core/magic.py\u001b[0m in \u001b[0;36m<lambda>\u001b[0;34m(f, *a, **k)\u001b[0m\n\u001b[1;32m    186\u001b[0m     \u001b[0;31m# but it's overkill for just that one bit of state.\u001b[0m\u001b[0;34m\u001b[0m\u001b[0;34m\u001b[0m\u001b[0;34m\u001b[0m\u001b[0m\n\u001b[1;32m    187\u001b[0m     \u001b[0;32mdef\u001b[0m \u001b[0mmagic_deco\u001b[0m\u001b[0;34m(\u001b[0m\u001b[0marg\u001b[0m\u001b[0;34m)\u001b[0m\u001b[0;34m:\u001b[0m\u001b[0;34m\u001b[0m\u001b[0;34m\u001b[0m\u001b[0m\n\u001b[0;32m--> 188\u001b[0;31m         \u001b[0mcall\u001b[0m \u001b[0;34m=\u001b[0m \u001b[0;32mlambda\u001b[0m \u001b[0mf\u001b[0m\u001b[0;34m,\u001b[0m \u001b[0;34m*\u001b[0m\u001b[0ma\u001b[0m\u001b[0;34m,\u001b[0m \u001b[0;34m**\u001b[0m\u001b[0mk\u001b[0m\u001b[0;34m:\u001b[0m \u001b[0mf\u001b[0m\u001b[0;34m(\u001b[0m\u001b[0;34m*\u001b[0m\u001b[0ma\u001b[0m\u001b[0;34m,\u001b[0m \u001b[0;34m**\u001b[0m\u001b[0mk\u001b[0m\u001b[0;34m)\u001b[0m\u001b[0;34m\u001b[0m\u001b[0;34m\u001b[0m\u001b[0m\n\u001b[0m\u001b[1;32m    189\u001b[0m \u001b[0;34m\u001b[0m\u001b[0m\n\u001b[1;32m    190\u001b[0m         \u001b[0;32mif\u001b[0m \u001b[0mcallable\u001b[0m\u001b[0;34m(\u001b[0m\u001b[0marg\u001b[0m\u001b[0;34m)\u001b[0m\u001b[0;34m:\u001b[0m\u001b[0;34m\u001b[0m\u001b[0;34m\u001b[0m\u001b[0m\n",
      "\u001b[0;32m/Users/shirzart/.pyenv/versions/iBrus/lib/python3.7/site-packages/IPython/core/magics/execution.py\u001b[0m in \u001b[0;36mtime\u001b[0;34m(self, line, cell, local_ns)\u001b[0m\n\u001b[1;32m   1191\u001b[0m         \u001b[0;32melse\u001b[0m\u001b[0;34m:\u001b[0m\u001b[0;34m\u001b[0m\u001b[0;34m\u001b[0m\u001b[0m\n\u001b[1;32m   1192\u001b[0m             \u001b[0mst\u001b[0m \u001b[0;34m=\u001b[0m \u001b[0mclock2\u001b[0m\u001b[0;34m(\u001b[0m\u001b[0;34m)\u001b[0m\u001b[0;34m\u001b[0m\u001b[0;34m\u001b[0m\u001b[0m\n\u001b[0;32m-> 1193\u001b[0;31m             \u001b[0mexec\u001b[0m\u001b[0;34m(\u001b[0m\u001b[0mcode\u001b[0m\u001b[0;34m,\u001b[0m \u001b[0mglob\u001b[0m\u001b[0;34m,\u001b[0m \u001b[0mlocal_ns\u001b[0m\u001b[0;34m)\u001b[0m\u001b[0;34m\u001b[0m\u001b[0;34m\u001b[0m\u001b[0m\n\u001b[0m\u001b[1;32m   1194\u001b[0m             \u001b[0mend\u001b[0m \u001b[0;34m=\u001b[0m \u001b[0mclock2\u001b[0m\u001b[0;34m(\u001b[0m\u001b[0;34m)\u001b[0m\u001b[0;34m\u001b[0m\u001b[0;34m\u001b[0m\u001b[0m\n\u001b[1;32m   1195\u001b[0m             \u001b[0mout\u001b[0m \u001b[0;34m=\u001b[0m \u001b[0;32mNone\u001b[0m\u001b[0;34m\u001b[0m\u001b[0;34m\u001b[0m\u001b[0m\n",
      "\u001b[0;32m<timed exec>\u001b[0m in \u001b[0;36m<module>\u001b[0;34m()\u001b[0m\n",
      "\u001b[0;32m/Users/shirzart/.pyenv/versions/iBrus/lib/python3.7/site-packages/pymesh2-0.3-py3.7-macosx-10.14-x86_64.egg/pymesh/CSGTree.py\u001b[0m in \u001b[0;36m__init__\u001b[0;34m(self, tree)\u001b[0m\n\u001b[1;32m    113\u001b[0m             \u001b[0mself\u001b[0m\u001b[0;34m.\u001b[0m\u001b[0mtree\u001b[0m\u001b[0;34m.\u001b[0m\u001b[0mset_operand_1\u001b[0m\u001b[0;34m(\u001b[0m\u001b[0mchildren\u001b[0m\u001b[0;34m[\u001b[0m\u001b[0;36m0\u001b[0m\u001b[0;34m]\u001b[0m\u001b[0;34m.\u001b[0m\u001b[0mtree\u001b[0m\u001b[0;34m)\u001b[0m\u001b[0;34m\u001b[0m\u001b[0;34m\u001b[0m\u001b[0m\n\u001b[1;32m    114\u001b[0m             \u001b[0mself\u001b[0m\u001b[0;34m.\u001b[0m\u001b[0mtree\u001b[0m\u001b[0;34m.\u001b[0m\u001b[0mset_operand_2\u001b[0m\u001b[0;34m(\u001b[0m\u001b[0mchildren\u001b[0m\u001b[0;34m[\u001b[0m\u001b[0;36m1\u001b[0m\u001b[0;34m]\u001b[0m\u001b[0;34m.\u001b[0m\u001b[0mtree\u001b[0m\u001b[0;34m)\u001b[0m\u001b[0;34m\u001b[0m\u001b[0;34m\u001b[0m\u001b[0m\n\u001b[0;32m--> 115\u001b[0;31m             \u001b[0mself\u001b[0m\u001b[0;34m.\u001b[0m\u001b[0mtree\u001b[0m\u001b[0;34m.\u001b[0m\u001b[0mcompute_difference\u001b[0m\u001b[0;34m(\u001b[0m\u001b[0;34m)\u001b[0m\u001b[0;34m\u001b[0m\u001b[0;34m\u001b[0m\u001b[0m\n\u001b[0m\u001b[1;32m    116\u001b[0m         \u001b[0;32melif\u001b[0m \u001b[0;34m\"symmetric_difference\"\u001b[0m \u001b[0;32min\u001b[0m \u001b[0mtree\u001b[0m\u001b[0;34m:\u001b[0m\u001b[0;34m\u001b[0m\u001b[0;34m\u001b[0m\u001b[0m\n\u001b[1;32m    117\u001b[0m             children = [ CSGTree(subtree) for subtree in\n",
      "\u001b[0;31mKeyboardInterrupt\u001b[0m: "
     ]
    }
   ],
   "source": [
    "%%time\n",
    "for element in list_of_grain_dict:\n",
    "    CSG_iteration_tree = pymesh.CSGTree({'difference': [cube_block_dict, element]})\n",
    "    cube_block_dict = CSG_iteration_tree\n"
   ]
  },
  {
   "cell_type": "code",
   "execution_count": 72,
   "metadata": {},
   "outputs": [
    {
     "output_type": "stream",
     "name": "stdout",
     "text": [
      "CPU times: user 32 s, sys: 782 ms, total: 32.8 s\nWall time: 21.2 s\n"
     ]
    }
   ],
   "source": [
    "%%time \n",
    "CSG_grid_generation = pymesh.CSGTree({'union': list_of_grain_dict})\n",
    "CSG_entire_tree = pymesh.CSGTree({'difference': [cube_block_dict, CSG_grid_generation]})\n"
   ]
  },
  {
   "cell_type": "code",
   "execution_count": 65,
   "metadata": {},
   "outputs": [],
   "source": [
    "pymesh.save_mesh(\"pymesh_100grid_grain_difference.stl\", CSG_entire_tree .mesh)"
   ]
  },
  {
   "cell_type": "code",
   "execution_count": 55,
   "metadata": {},
   "outputs": [],
   "source": [
    "pymesh.save_mesh(\"25_grid_grain.stl\", CSG_grid_generation.mesh)"
   ]
  },
  {
   "cell_type": "code",
   "execution_count": 66,
   "metadata": {},
   "outputs": [
    {
     "output_type": "display_data",
     "data": {
      "text/plain": "Plot(antialias=3, axes=['x', 'y', 'z'], axes_helper=1.0, background_color=16777215, camera=[21.21596089278675,…",
      "application/vnd.jupyter.widget-view+json": {
       "version_major": 2,
       "version_minor": 0,
       "model_id": "0b66d42d69b34f218467d12465735e70"
      }
     },
     "metadata": {}
    }
   ],
   "source": [
    "vp = Plotter(shape=(1, 1), interactive=0, axes=3)\n",
    "vp.show(vp.load(\"pymesh_100grid_grain_difference.stl\"), at=0)"
   ]
  },
  {
   "cell_type": "code",
   "execution_count": null,
   "metadata": {},
   "outputs": [],
   "source": []
  }
 ]
}