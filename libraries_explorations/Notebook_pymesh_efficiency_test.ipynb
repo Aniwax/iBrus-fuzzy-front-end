{
 "metadata": {
  "language_info": {
   "codemirror_mode": {
    "name": "ipython",
    "version": 3
   },
   "file_extension": ".py",
   "mimetype": "text/x-python",
   "name": "python",
   "nbconvert_exporter": "python",
   "pygments_lexer": "ipython3",
   "version": "3.7.5-final"
  },
  "orig_nbformat": 2,
  "kernelspec": {
   "name": "python3",
   "display_name": "Python 3.7.5 64-bit ('iBrus')",
   "metadata": {
    "interpreter": {
     "hash": "72d30dc0c526e9a9e27776afd4c4229b75576606989f345312ef0e8fc67d3490"
    }
   }
  }
 },
 "nbformat": 4,
 "nbformat_minor": 2,
 "cells": [
  {
   "source": [
    "# This notebook is created to try out different things before implementing the efficiency test on pymesh"
   ],
   "cell_type": "markdown",
   "metadata": {}
  },
  {
   "cell_type": "code",
   "execution_count": 3,
   "metadata": {},
   "outputs": [],
   "source": [
    "import pymesh\n",
    "import numpy as np"
   ]
  },
  {
   "cell_type": "code",
   "execution_count": 4,
   "metadata": {},
   "outputs": [],
   "source": [
    "box_1 = pymesh.generate_box_mesh(box_min = np.array([0, 0, 0]), box_max = np.array([25, 25, 25]))"
   ]
  },
  {
   "cell_type": "code",
   "execution_count": 5,
   "metadata": {},
   "outputs": [],
   "source": [
    "box_small_1 = pymesh.generate_box_mesh(box_min = np.array([0, 0, 0]), box_max = np.array([1, 1, 1]))\n",
    "\n",
    "box_small_2 = pymesh.generate_box_mesh(box_min = np.array([0.5, 0.5, 0.5]), \n",
    "box_max = np.array([1.5, 1.5, 1.5]))"
   ]
  },
  {
   "cell_type": "code",
   "execution_count": 6,
   "metadata": {},
   "outputs": [],
   "source": [
    "output_mesh = pymesh.boolean(box_small_1, box_small_2,operation='intersection')"
   ]
  },
  {
   "source": [
    "## Now we try building a union of three boxes. "
   ],
   "cell_type": "markdown",
   "metadata": {}
  },
  {
   "cell_type": "code",
   "execution_count": 7,
   "metadata": {},
   "outputs": [],
   "source": [
    "box_sd_1 = pymesh.generate_box_mesh(box_min = np.array([0, 0, 0]), box_max = np.array([1, 1, 1]))\n",
    "\n",
    "box_sd_2 = pymesh.generate_box_mesh(box_min = np.array([1.5, 0, 0]), \n",
    "box_max = np.array([2.5, 1, 1]))\n",
    "\n",
    "box_sd_3 = pymesh.generate_box_mesh(box_min = np.array([3.5, 0, 0]), \n",
    "box_max = np.array([4.5, 1, 1]))"
   ]
  },
  {
   "cell_type": "code",
   "execution_count": 8,
   "metadata": {},
   "outputs": [],
   "source": [
    "csg = pymesh.CSGTree({'union': [{\"mesh\": box_sd_1}, {\"mesh\": box_sd_2}, {\"mesh\": box_sd_3}]})"
   ]
  },
  {
   "cell_type": "code",
   "execution_count": 10,
   "metadata": {},
   "outputs": [],
   "source": [
    "# Generate a grid of cubes and their union \n",
    "number = 5\n",
    "distance = 4 \n",
    "list_of_grain_dict = []\n",
    "scale = 1\n",
    "\n",
    "for element in range(number):\n",
    "    for iterator in range(number ** 2):\n",
    "        reminder = iterator % number\n",
    "        if reminder == 0:\n",
    "            position = iterator // number\n",
    "        else:\n",
    "            position = reminder \n",
    "        new_grain =  pymesh.generate_box_mesh(\n",
    "            box_min = np.array([element * distance, position * distance, number * distance]), \n",
    "            box_max = np.array([element * distance + scale, position * distance + scale, number * distance + scale]))\n",
    "        new_grain_dict = {\"mesh\": new_grain}\n",
    "        list_of_grain_dict.append(new_grain_dict)\n",
    "\n",
    "\n",
    "\n"
   ]
  },
  {
   "cell_type": "code",
   "execution_count": 11,
   "metadata": {},
   "outputs": [
    {
     "output_type": "stream",
     "name": "stdout",
     "text": [
      "CPU times: user 3.11 s, sys: 118 ms, total: 3.23 s\nWall time: 2.44 s\n"
     ]
    }
   ],
   "source": [
    "%%time\n",
    "CSG_grid_generation = pymesh.CSGTree({'union': list_of_grain_dict})"
   ]
  },
  {
   "cell_type": "code",
   "execution_count": 13,
   "metadata": {},
   "outputs": [
    {
     "output_type": "stream",
     "name": "stdout",
     "text": [
      "CPU times: user 771 µs, sys: 3 µs, total: 774 µs\nWall time: 779 µs\n"
     ]
    }
   ],
   "source": [
    "%%time\n",
    "# generate the cube block that sits beneath the grain\n",
    "cube_block = pymesh.generate_box_mesh(box_min = [0, 0, 0], box_max = [number * distance + 1, number * distance + scale + 1, number * distance + scale])\n",
    "\n",
    "cube_block_dict = {\"mesh\": cube_block}"
   ]
  },
  {
   "cell_type": "code",
   "execution_count": 23,
   "metadata": {},
   "outputs": [],
   "source": [
    "CSG_entire_tree = pymesh.CSGTree({'difference': [cube_block_dict, CSG_grid_generation]})"
   ]
  },
  {
   "cell_type": "code",
   "execution_count": 24,
   "metadata": {},
   "outputs": [],
   "source": [
    "output_mesh = CSG_entire_tree.mesh"
   ]
  },
  {
   "cell_type": "code",
   "execution_count": 25,
   "metadata": {},
   "outputs": [],
   "source": [
    "pymesh.save_mesh(\"pymesh_25grid_cube_difference.stl\", output_mesh)"
   ]
  },
  {
   "cell_type": "code",
   "execution_count": 26,
   "metadata": {},
   "outputs": [],
   "source": [
    "import vedo\n",
    "from vedo import *\n",
    "load_pymesh = vedo.load(\"pymesh_25grid_cube_difference.stl\")\n"
   ]
  },
  {
   "cell_type": "code",
   "execution_count": 27,
   "metadata": {},
   "outputs": [
    {
     "output_type": "display_data",
     "data": {
      "text/plain": "Plot(antialias=3, axes=['x', 'y', 'z'], axes_helper=1.0, background_color=16777215, camera=[10.869594372251527…",
      "application/vnd.jupyter.widget-view+json": {
       "version_major": 2,
       "version_minor": 0,
       "model_id": "db9edd7abcf748b29d46fbe160f70788"
      }
     },
     "metadata": {}
    }
   ],
   "source": [
    "vp = Plotter(shape=(1, 1), interactive=0, axes=3)\n",
    "vp.show(load_pymesh, at=0)"
   ]
  }
 ]
}