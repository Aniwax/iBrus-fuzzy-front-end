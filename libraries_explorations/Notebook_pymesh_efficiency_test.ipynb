{
 "metadata": {
  "language_info": {
   "codemirror_mode": {
    "name": "ipython",
    "version": 3
   },
   "file_extension": ".py",
   "mimetype": "text/x-python",
   "name": "python",
   "nbconvert_exporter": "python",
   "pygments_lexer": "ipython3",
   "version": "3.7.5-final"
  },
  "orig_nbformat": 2,
  "kernelspec": {
   "name": "python3",
   "display_name": "Python 3.7.5 64-bit ('iBrus')",
   "metadata": {
    "interpreter": {
     "hash": "72d30dc0c526e9a9e27776afd4c4229b75576606989f345312ef0e8fc67d3490"
    }
   }
  }
 },
 "nbformat": 4,
 "nbformat_minor": 2,
 "cells": [
  {
   "source": [
    "# This notebook is created to try out different things before implementing the efficiency test on pymesh"
   ],
   "cell_type": "markdown",
   "metadata": {}
  },
  {
   "cell_type": "code",
   "execution_count": 25,
   "metadata": {},
   "outputs": [],
   "source": [
    "import pymesh\n",
    "import numpy as np"
   ]
  },
  {
   "cell_type": "code",
   "execution_count": 26,
   "metadata": {},
   "outputs": [],
   "source": [
    "box_1 = pymesh.generate_box_mesh(box_min = np.array([0, 0, 0]), box_max = np.array([25, 25, 25]))"
   ]
  },
  {
   "cell_type": "code",
   "execution_count": 27,
   "metadata": {},
   "outputs": [],
   "source": [
    "box_small_1 = pymesh.generate_box_mesh(box_min = np.array([0, 0, 0]), box_max = np.array([1, 1, 1]))\n",
    "\n",
    "box_small_2 = pymesh.generate_box_mesh(box_min = np.array([0.5, 0.5, 0.5]), \n",
    "box_max = np.array([1.5, 1.5, 1.5]))"
   ]
  },
  {
   "cell_type": "code",
   "execution_count": 28,
   "metadata": {},
   "outputs": [],
   "source": [
    "grain_raw_mesh = pymesh.load_mesh(\"grains/Cuboctahedron.stl\")\n"
   ]
  },
  {
   "cell_type": "code",
   "execution_count": 29,
   "metadata": {},
   "outputs": [],
   "source": [
    "box_small_2 = pymesh.generate_box_mesh(box_min = np.array([0.5, 0.5, 0.5]), box_max = np.array([1.5, 1.5, 1.5]), num_samples=1,  using_simplex=True)"
   ]
  },
  {
   "cell_type": "code",
   "execution_count": 30,
   "metadata": {},
   "outputs": [
    {
     "output_type": "execute_result",
     "data": {
      "text/plain": [
       "12"
      ]
     },
     "metadata": {},
     "execution_count": 30
    }
   ],
   "source": [
    "len(box_small_2.faces)"
   ]
  },
  {
   "cell_type": "code",
   "execution_count": 31,
   "metadata": {},
   "outputs": [
    {
     "output_type": "stream",
     "name": "stdout",
     "text": [
      "number of vertices before divison 12\n"
     ]
    }
   ],
   "source": [
    "print(\"number of vertices before divison\", len(box_small_2.faces))"
   ]
  },
  {
   "cell_type": "code",
   "execution_count": 32,
   "metadata": {},
   "outputs": [],
   "source": [
    "divided_mesh = pymesh.subdivide(box_small_2, order=1)"
   ]
  },
  {
   "cell_type": "code",
   "execution_count": 33,
   "metadata": {},
   "outputs": [
    {
     "output_type": "stream",
     "name": "stdout",
     "text": [
      "Number of vertices after division 48\n"
     ]
    }
   ],
   "source": [
    "print(\"Number of vertices after division\", len(divided_mesh.faces))"
   ]
  },
  {
   "cell_type": "code",
   "execution_count": 34,
   "metadata": {},
   "outputs": [
    {
     "output_type": "stream",
     "name": "stdout",
     "text": [
      "Number of vertices after division 26\n"
     ]
    }
   ],
   "source": [
    "print(\"Number of vertices after division\", divided_mesh.num_vertices)"
   ]
  },
  {
   "cell_type": "code",
   "execution_count": 35,
   "metadata": {},
   "outputs": [],
   "source": [
    "# Genearte a 2D plane and play with the resolution\n",
    "\n",
    "vertices = np.array([[0.0, 0.0], [0.0, 100], [0.0, 500], [0.0, 700],[1000, 80],[1000, 0.0], [1000, 1000],  [0.0, 1000]])\n",
    "tri = pymesh.triangle()\n",
    "# tri.segments = np.array([, )\n",
    "tri.points = vertices\n",
    "tri.split_boundary = False\n",
    "tri.verbosity = 1\n",
    "tri.run()\n",
    "mesh = tri.mesh"
   ]
  },
  {
   "cell_type": "code",
   "execution_count": 36,
   "metadata": {},
   "outputs": [
    {
     "output_type": "execute_result",
     "data": {
      "text/plain": [
       "8"
      ]
     },
     "metadata": {},
     "execution_count": 36
    }
   ],
   "source": [
    "len(mesh.faces)"
   ]
  },
  {
   "cell_type": "code",
   "execution_count": 37,
   "metadata": {},
   "outputs": [
    {
     "output_type": "display_data",
     "data": {
      "text/plain": "Plot(antialias=3, axes=['x', 'y', 'z'], axes_helper=1.0, background_color=16777215, camera=[1.0173205080756889…",
      "application/vnd.jupyter.widget-view+json": {
       "version_major": 2,
       "version_minor": 0,
       "model_id": "2b72015f66724c078ba2d0104dd0cbca"
      }
     },
     "metadata": {}
    }
   ],
   "source": [
    "pymesh.save_mesh(\"pymesh_divided_mesh.stl\", divided_mesh)\n",
    "import vedo\n",
    "from vedo import Plotter\n",
    "vp = Plotter(shape=(1, 1), interactive=0, axes=3)\n",
    "vp.show(vp.load(\"pymesh_divided_mesh.stl\"), at=0)"
   ]
  },
  {
   "cell_type": "code",
   "execution_count": 38,
   "metadata": {},
   "outputs": [],
   "source": [
    "# Creating a wire network \n",
    "vertices = np.array([[0.0, 0.0, 0.0],[1.0, 0.0, 0.0], [1.0, 1.0, 0.0]])\n",
    "edges = np.array([[0, 1],[0, 2],[1, 2],])\n",
    "wires = pymesh.WireNetwork.create_from_data(vertices, edges)\n",
    "\n",
    "wires.write_to_file(\"pymesh_wirentework.stl\")"
   ]
  },
  {
   "cell_type": "code",
   "execution_count": 39,
   "metadata": {},
   "outputs": [
    {
     "output_type": "stream",
     "name": "stdout",
     "text": [
      "CPU times: user 2 µs, sys: 1 µs, total: 3 µs\nWall time: 3.81 µs\n"
     ]
    }
   ],
   "source": [
    "%time \n",
    "output_mesh = pymesh.boolean(grain_raw_mesh, box_small_2,operation='difference')"
   ]
  },
  {
   "cell_type": "code",
   "execution_count": 40,
   "metadata": {},
   "outputs": [
    {
     "output_type": "stream",
     "name": "stdout",
     "text": [
      "CPU times: user 1e+03 ns, sys: 0 ns, total: 1e+03 ns\nWall time: 3.1 µs\n"
     ]
    }
   ],
   "source": [
    "%time \n",
    "output_mesh_cgal = pymesh.boolean(box_small_1, box_small_2,operation='intersection', engine='cgal')"
   ]
  },
  {
   "source": [
    "## Now we try building a union of three boxes. "
   ],
   "cell_type": "markdown",
   "metadata": {}
  },
  {
   "cell_type": "code",
   "execution_count": 41,
   "metadata": {},
   "outputs": [],
   "source": [
    "box_sd_1 = pymesh.generate_box_mesh(box_min = np.array([0, 0, 0]), box_max = np.array([1, 1, 1]))\n",
    "\n",
    "box_sd_2 = pymesh.generate_box_mesh(box_min = np.array([1.5, 0, 0]), \n",
    "box_max = np.array([2.5, 1, 1]))\n",
    "\n",
    "box_sd_3 = pymesh.generate_box_mesh(box_min = np.array([3.5, 0, 0]), \n",
    "box_max = np.array([4.5, 1, 1]))\n",
    "\n",
    "box_sd_4 = pymesh.generate_box_mesh(box_min = np.array([5.5, 0, 0]), \n",
    "box_max = np.array([6.5, 1, 1]))\n",
    "\n",
    "box_sd_5 = pymesh.generate_box_mesh(box_min = np.array([7.5, 0, 0]), \n",
    "box_max = np.array([8.5, 1, 1]))\n",
    "\n",
    "box_sd_6 = pymesh.generate_box_mesh(box_min = np.array([9.5, 0, 0]), \n",
    "box_max = np.array([10.5, 1, 1]))\n",
    "\n",
    "box_sd_7 = pymesh.generate_box_mesh(box_min = np.array([11.5, 0, 0]), \n",
    "box_max = np.array([12.5, 1, 1]))\n",
    "\n",
    "box_sd_8 = pymesh.generate_box_mesh(box_min = np.array([13.5, 0, 0]), \n",
    "box_max = np.array([14.5, 1, 1]))"
   ]
  },
  {
   "source": [
    "### The follwoing two cells is the runtime comparison between union of a list of grain VS generating union grain by grain "
   ],
   "cell_type": "markdown",
   "metadata": {}
  },
  {
   "cell_type": "code",
   "execution_count": 42,
   "metadata": {},
   "outputs": [
    {
     "output_type": "stream",
     "name": "stdout",
     "text": [
      "10 loops, best of 5: 74.1 ms per loop\n"
     ]
    }
   ],
   "source": [
    "%%timeit\n",
    "csg = pymesh.CSGTree({'union': [{\"mesh\": box_sd_1}, {\"mesh\": box_sd_2}, \n",
    "                                {\"mesh\": box_sd_3}, {\"mesh\": box_sd_4},\n",
    "                                {\"mesh\": box_sd_5}, {\"mesh\": box_sd_6},\n",
    "                                {\"mesh\": box_sd_7}, {\"mesh\": box_sd_8}]})"
   ]
  },
  {
   "cell_type": "code",
   "execution_count": 43,
   "metadata": {},
   "outputs": [
    {
     "output_type": "stream",
     "name": "stdout",
     "text": [
      "10 loops, best of 5: 106 ms per loop\n"
     ]
    }
   ],
   "source": [
    "%%timeit\n",
    "list_of_box_sd = [box_sd_1, box_sd_2, box_sd_3, box_sd_4, box_sd_5, box_sd_6, box_sd_7, box_sd_8]\n",
    "\n",
    "for number in range(len(list_of_box_sd)):\n",
    "    if number==0:\n",
    "        intermediate_union = list_of_box_sd[number]\n",
    "    else:\n",
    "        intermediate_union = pymesh.boolean(intermediate_union,list_of_box_sd[number],\"union\")\n"
   ]
  },
  {
   "cell_type": "code",
   "execution_count": null,
   "metadata": {},
   "outputs": [],
   "source": []
  },
  {
   "cell_type": "code",
   "execution_count": 44,
   "metadata": {
    "tags": []
   },
   "outputs": [
    {
     "output_type": "stream",
     "name": "stdout",
     "text": [
      "<pymesh.Mesh.Mesh object at 0x121c87390>\n",
      "<pymesh.Mesh.Mesh object at 0x121c874d0>\n",
      "<pymesh.Mesh.Mesh object at 0x121c7e2d0>\n",
      "<pymesh.Mesh.Mesh object at 0x121c7ef90>\n",
      "<pymesh.Mesh.Mesh object at 0x121c874d0>\n",
      "<pymesh.Mesh.Mesh object at 0x121c87690>\n",
      "1 loop, best of 5: 2.4 s per loop\n"
     ]
    }
   ],
   "source": [
    "%%timeit\n",
    "# Generate a grid of cubes and their union \n",
    "number = 5\n",
    "distance = 4 \n",
    "list_of_box_dict = []\n",
    "scale = 1\n",
    "\n",
    "for element in range(number):\n",
    "    for iterator in range(number ** 2):\n",
    "        reminder = iterator % number\n",
    "        if reminder == 0:\n",
    "            position = iterator // number\n",
    "        else:\n",
    "            position = reminder \n",
    "        new_box =  pymesh.generate_box_mesh(\n",
    "            box_min = np.array([element * distance, position * distance, number * distance]), \n",
    "            box_max = np.array([element * distance + scale, position * distance + scale, number * distance + scale]))\n",
    "        new_box_dict = {\"mesh\": new_box}\n",
    "        list_of_box_dict.append(new_box_dict)\n",
    "\n",
    "CSG_grid_generation = pymesh.CSGTree({'union': list_of_box_dict})\n",
    "print(list_of_box_dict[0][\"mesh\"])"
   ]
  },
  {
   "cell_type": "code",
   "execution_count": 45,
   "metadata": {},
   "outputs": [
    {
     "output_type": "error",
     "ename": "NameError",
     "evalue": "name 'list_of_grain_dict' is not defined",
     "traceback": [
      "\u001b[0;31m---------------------------------------------------------------------------\u001b[0m",
      "\u001b[0;31mNameError\u001b[0m                                 Traceback (most recent call last)",
      "\u001b[0;32m<ipython-input-45-58acf50e524c>\u001b[0m in \u001b[0;36m<module>\u001b[0;34m()\u001b[0m\n\u001b[0;32m----> 1\u001b[0;31m \u001b[0;32mfor\u001b[0m \u001b[0mnumber\u001b[0m \u001b[0;32min\u001b[0m \u001b[0mrange\u001b[0m\u001b[0;34m(\u001b[0m\u001b[0mlen\u001b[0m\u001b[0;34m(\u001b[0m\u001b[0mlist_of_grain_dict\u001b[0m\u001b[0;34m)\u001b[0m\u001b[0;34m)\u001b[0m\u001b[0;34m:\u001b[0m\u001b[0;34m\u001b[0m\u001b[0;34m\u001b[0m\u001b[0m\n\u001b[0m\u001b[1;32m      2\u001b[0m     \u001b[0mgrain\u001b[0m \u001b[0;34m=\u001b[0m \u001b[0mpymesh\u001b[0m\u001b[0;34m.\u001b[0m\u001b[0mboolean\u001b[0m\u001b[0;34m(\u001b[0m\u001b[0mlist_of_box_dict\u001b[0m\u001b[0;34m[\u001b[0m\u001b[0mnumber\u001b[0m\u001b[0;34m]\u001b[0m\u001b[0;34m[\u001b[0m\u001b[0;34m\"mesh\"\u001b[0m\u001b[0;34m]\u001b[0m\u001b[0;34m)\u001b[0m\u001b[0;34m\u001b[0m\u001b[0;34m\u001b[0m\u001b[0m\n\u001b[1;32m      3\u001b[0m \u001b[0;34m\u001b[0m\u001b[0m\n\u001b[1;32m      4\u001b[0m \u001b[0;34m\u001b[0m\u001b[0m\n",
      "\u001b[0;31mNameError\u001b[0m: name 'list_of_grain_dict' is not defined"
     ]
    }
   ],
   "source": [
    "for number in range(len(list_of_grain_dict)):\n",
    "    grain = pymesh.boolean(list_of_box_dict[number][\"mesh\"])\n",
    "\n",
    "    "
   ]
  },
  {
   "cell_type": "code",
   "execution_count": 46,
   "metadata": {},
   "outputs": [
    {
     "output_type": "stream",
     "name": "stdout",
     "text": [
      "CPU times: user 1.08 ms, sys: 278 µs, total: 1.36 ms\nWall time: 1.33 ms\n"
     ]
    }
   ],
   "source": [
    "%%time\n",
    "# generate the cube block that sits beneath the grain\n",
    "number = 5\n",
    "distance = 4 \n",
    "list_of_grain_dict = []\n",
    "scale = 1\n",
    "cube_block = pymesh.generate_box_mesh(box_min = [0, 0, 0], box_max = [number * distance + 1, number * distance + scale + 1, number * distance + scale])\n",
    "\n",
    "cube_block_dict = {\"mesh\": cube_block}"
   ]
  },
  {
   "cell_type": "code",
   "execution_count": 47,
   "metadata": {},
   "outputs": [
    {
     "output_type": "execute_result",
     "data": {
      "text/plain": [
       "<pymesh.Mesh.Mesh at 0x117a44650>"
      ]
     },
     "metadata": {},
     "execution_count": 47
    }
   ],
   "source": [
    "cube_block"
   ]
  },
  {
   "cell_type": "code",
   "execution_count": 52,
   "metadata": {},
   "outputs": [
    {
     "output_type": "stream",
     "name": "stdout",
     "text": [
      "The number of triangels before remeshing 12\n",
      "The number of faces after subdivision 48\n",
      "The number of triangels before remeshing 12\n",
      "The number of faces after subdivision 192\n",
      "The number of triangels before remeshing 12\n",
      "The number of faces after subdivision 768\n",
      "The number of triangels before remeshing 12\n",
      "The number of faces after subdivision 3072\n",
      "The number of triangels before remeshing 12\n",
      "The number of faces after subdivision 12288\n",
      "The number of triangels before remeshing 12\n",
      "The number of faces after subdivision 49152\n",
      "The number of triangels before remeshing 12\n",
      "The number of faces after subdivision 196608\n",
      "The number of triangels before remeshing 12\n",
      "The number of faces after subdivision 786432\n",
      "The number of triangels before remeshing 12\n",
      "The number of faces after subdivision 3145728\n",
      "CPU times: user 1min 40s, sys: 2.71 s, total: 1min 43s\n",
      "Wall time: 1min 57s\n"
     ]
    }
   ],
   "source": [
    "%%time\n",
    "for orders in [1,2,3,4,5,6,7,8,9]:\n",
    "    print(\"The number of triangels before remeshing\",len(cube_block.faces))\n",
    "    divide_cube = pymesh.subdivide(cube_block, order=orders)\n",
    "    print(\"The number of faces after subdivision\", len(divide_cube.faces))\n",
    "    pymesh.save_mesh(\"pymesh_cube_\" + str(orders) + \"_numbers_.stl\", divide_cube)"
   ]
  },
  {
   "cell_type": "code",
   "execution_count": 2,
   "metadata": {},
   "outputs": [
    {
     "output_type": "stream",
     "name": "stdout",
     "text": [
      "CPU times: user 10min 11s, sys: 9.03 s, total: 10min 20s\nWall time: 4min 48s\n"
     ]
    }
   ],
   "source": [
    "%%time\n",
    "loaded_cube = pymesh.load_mesh(\"pymesh_million_triangle_per_side_cube.stl\")"
   ]
  },
  {
   "cell_type": "code",
   "execution_count": 10,
   "metadata": {},
   "outputs": [
    {
     "output_type": "execute_result",
     "data": {
      "text/plain": [
       "array([[0.00000000e+00, 0.00000000e+00, 0.00000000e+00],\n",
       "       [0.00000000e+00, 0.00000000e+00, 2.05078125e-02],\n",
       "       [0.00000000e+00, 0.00000000e+00, 4.10156250e-02],\n",
       "       ...,\n",
       "       [2.10000000e+01, 2.20000000e+01, 2.09589844e+01],\n",
       "       [2.10000000e+01, 2.20000000e+01, 2.09794922e+01],\n",
       "       [2.10000000e+01, 2.20000000e+01, 2.10000000e+01]])"
      ]
     },
     "metadata": {},
     "execution_count": 10
    }
   ],
   "source": [
    "loaded_cube.vertices"
   ]
  },
  {
   "cell_type": "code",
   "execution_count": 12,
   "metadata": {},
   "outputs": [],
   "source": [
    "CSG_entire_tree = pymesh.CSGTree({'difference': [cube_block_dict, CSG_grid_generation]})"
   ]
  },
  {
   "cell_type": "code",
   "execution_count": 13,
   "metadata": {},
   "outputs": [],
   "source": [
    "output_mesh = CSG_entire_tree.mesh"
   ]
  },
  {
   "cell_type": "code",
   "execution_count": 14,
   "metadata": {},
   "outputs": [],
   "source": [
    "pymesh.save_mesh(\"pymesh_25grid_cube_difference.stl\", output_mesh)"
   ]
  },
  {
   "cell_type": "code",
   "execution_count": 15,
   "metadata": {},
   "outputs": [],
   "source": [
    "import vedo\n",
    "from vedo import *\n",
    "load_pymesh = vedo.load(\"pymesh_25grid_cube_difference.stl\")\n"
   ]
  },
  {
   "cell_type": "code",
   "execution_count": 16,
   "metadata": {},
   "outputs": [
    {
     "output_type": "display_data",
     "data": {
      "text/plain": "Plot(antialias=3, axes=['x', 'y', 'z'], axes_helper=1.0, background_color=16777215, camera=[10.869594372251527…",
      "application/vnd.jupyter.widget-view+json": {
       "version_major": 2,
       "version_minor": 0,
       "model_id": "f2069646ef8c4769bee516048e83d1b4"
      }
     },
     "metadata": {}
    }
   ],
   "source": [
    "vp = Plotter(shape=(1, 1), interactive=0, axes=3)\n",
    "vp.show(load_pymesh, at=0)"
   ]
  },
  {
   "source": [
    "## Time comparison between 2 different intersection method: intersect & loop  VS union & intersect"
   ],
   "cell_type": "markdown",
   "metadata": {}
  },
  {
   "cell_type": "code",
   "execution_count": 71,
   "metadata": {},
   "outputs": [],
   "source": [
    "# Generate a grid of cubes and the cube beneath\n",
    "number = 10\n",
    "distance = 4 \n",
    "list_of_grain_dict = []\n",
    "scale = 1\n",
    "grain = pymesh.load_mesh(\"grains/Cuboctahedron.stl\")\n",
    "\n",
    "for element in range(number):\n",
    "    for iterator in range(number ** 2):\n",
    "        reminder = iterator % number\n",
    "        if reminder == 0:\n",
    "            position = iterator // number\n",
    "        else:\n",
    "            position = reminder \n",
    "\n",
    "        new_grain =  pymesh.generate_box_mesh(\n",
    "            box_min = np.array([element * distance, position * distance, number * distance]), \n",
    "            box_max = np.array([element * distance + scale, position * distance + scale, number * distance + scale]))\n",
    "        new_grain_dict = {\"mesh\": new_grain}\n",
    "        list_of_grain_dict.append(new_grain_dict)\n",
    "\n",
    "# generate the cube block that sits beneath the grain\n",
    "cube_block = pymesh.generate_box_mesh(box_min = [0, 0, 0], box_max = [number * distance + 1, number * distance + scale + 1, number * distance + scale])\n",
    "\n",
    "cube_block_dict = {\"mesh\": cube_block}\n"
   ]
  },
  {
   "cell_type": "code",
   "execution_count": 67,
   "metadata": {},
   "outputs": [],
   "source": [
    "# using a grid of mesh\n",
    "# Generate a grid of mesh and the cube beneath\n",
    "number = 20\n",
    "distance = 4 \n",
    "list_of_grain_dict = []\n",
    "scale = 1\n",
    "grain_raw_mesh = pymesh.load_mesh(\"grains/Cuboctahedron.stl\")\n",
    "\n",
    "for element in range(number):\n",
    "    for iterator in range(number ** 2):\n",
    "        reminder = iterator % number\n",
    "        if reminder == 0:\n",
    "            position = iterator // number\n",
    "        else:\n",
    "            position = reminder \n",
    "\n",
    "        new_grain =  pymesh.form_mesh(grain_raw_mesh.vertices + [element * distance + scale, position * distance + scale, number * distance + scale], grain_raw_mesh.faces)\n",
    "        new_grain_dict = {\"mesh\": new_grain}\n",
    "        list_of_grain_dict.append(new_grain_dict)\n",
    "\n",
    "# generate the cube block that sits beneath the grain\n",
    "cube_block = pymesh.generate_box_mesh(box_min = [0, 0, 0], box_max = [number * distance + 1, number * distance + scale + 1, number * distance + scale])\n",
    "\n",
    "cube_block_dict = {\"mesh\": cube_block}"
   ]
  },
  {
   "cell_type": "code",
   "execution_count": 73,
   "metadata": {},
   "outputs": [
    {
     "output_type": "error",
     "ename": "KeyboardInterrupt",
     "evalue": "",
     "traceback": [
      "\u001b[0;31m---------------------------------------------------------------------------\u001b[0m",
      "\u001b[0;31mKeyboardInterrupt\u001b[0m                         Traceback (most recent call last)",
      "\u001b[0;32m<ipython-input-73-0d52434bdf4c>\u001b[0m in \u001b[0;36m<module>\u001b[0;34m()\u001b[0m\n\u001b[0;32m----> 1\u001b[0;31m \u001b[0mget_ipython\u001b[0m\u001b[0;34m(\u001b[0m\u001b[0;34m)\u001b[0m\u001b[0;34m.\u001b[0m\u001b[0mrun_cell_magic\u001b[0m\u001b[0;34m(\u001b[0m\u001b[0;34m'time'\u001b[0m\u001b[0;34m,\u001b[0m \u001b[0;34m''\u001b[0m\u001b[0;34m,\u001b[0m \u001b[0;34m\"for element in list_of_grain_dict:\\n    CSG_iteration_tree = pymesh.CSGTree({'difference': [cube_block_dict, element]})\\n    cube_block_dict = CSG_iteration_tree\"\u001b[0m\u001b[0;34m)\u001b[0m\u001b[0;34m\u001b[0m\u001b[0;34m\u001b[0m\u001b[0m\n\u001b[0m",
      "\u001b[0;32m/Users/shirzart/.pyenv/versions/iBrus/lib/python3.7/site-packages/IPython/core/interactiveshell.py\u001b[0m in \u001b[0;36mrun_cell_magic\u001b[0;34m(self, magic_name, line, cell)\u001b[0m\n\u001b[1;32m   2115\u001b[0m             \u001b[0mmagic_arg_s\u001b[0m \u001b[0;34m=\u001b[0m \u001b[0mself\u001b[0m\u001b[0;34m.\u001b[0m\u001b[0mvar_expand\u001b[0m\u001b[0;34m(\u001b[0m\u001b[0mline\u001b[0m\u001b[0;34m,\u001b[0m \u001b[0mstack_depth\u001b[0m\u001b[0;34m)\u001b[0m\u001b[0;34m\u001b[0m\u001b[0;34m\u001b[0m\u001b[0m\n\u001b[1;32m   2116\u001b[0m             \u001b[0;32mwith\u001b[0m \u001b[0mself\u001b[0m\u001b[0;34m.\u001b[0m\u001b[0mbuiltin_trap\u001b[0m\u001b[0;34m:\u001b[0m\u001b[0;34m\u001b[0m\u001b[0;34m\u001b[0m\u001b[0m\n\u001b[0;32m-> 2117\u001b[0;31m                 \u001b[0mresult\u001b[0m \u001b[0;34m=\u001b[0m \u001b[0mfn\u001b[0m\u001b[0;34m(\u001b[0m\u001b[0mmagic_arg_s\u001b[0m\u001b[0;34m,\u001b[0m \u001b[0mcell\u001b[0m\u001b[0;34m)\u001b[0m\u001b[0;34m\u001b[0m\u001b[0;34m\u001b[0m\u001b[0m\n\u001b[0m\u001b[1;32m   2118\u001b[0m             \u001b[0;32mreturn\u001b[0m \u001b[0mresult\u001b[0m\u001b[0;34m\u001b[0m\u001b[0;34m\u001b[0m\u001b[0m\n\u001b[1;32m   2119\u001b[0m \u001b[0;34m\u001b[0m\u001b[0m\n",
      "\u001b[0;32m<decorator-gen-53>\u001b[0m in \u001b[0;36mtime\u001b[0;34m(self, line, cell, local_ns)\u001b[0m\n",
      "\u001b[0;32m/Users/shirzart/.pyenv/versions/iBrus/lib/python3.7/site-packages/IPython/core/magic.py\u001b[0m in \u001b[0;36m<lambda>\u001b[0;34m(f, *a, **k)\u001b[0m\n\u001b[1;32m    186\u001b[0m     \u001b[0;31m# but it's overkill for just that one bit of state.\u001b[0m\u001b[0;34m\u001b[0m\u001b[0;34m\u001b[0m\u001b[0;34m\u001b[0m\u001b[0m\n\u001b[1;32m    187\u001b[0m     \u001b[0;32mdef\u001b[0m \u001b[0mmagic_deco\u001b[0m\u001b[0;34m(\u001b[0m\u001b[0marg\u001b[0m\u001b[0;34m)\u001b[0m\u001b[0;34m:\u001b[0m\u001b[0;34m\u001b[0m\u001b[0;34m\u001b[0m\u001b[0m\n\u001b[0;32m--> 188\u001b[0;31m         \u001b[0mcall\u001b[0m \u001b[0;34m=\u001b[0m \u001b[0;32mlambda\u001b[0m \u001b[0mf\u001b[0m\u001b[0;34m,\u001b[0m \u001b[0;34m*\u001b[0m\u001b[0ma\u001b[0m\u001b[0;34m,\u001b[0m \u001b[0;34m**\u001b[0m\u001b[0mk\u001b[0m\u001b[0;34m:\u001b[0m \u001b[0mf\u001b[0m\u001b[0;34m(\u001b[0m\u001b[0;34m*\u001b[0m\u001b[0ma\u001b[0m\u001b[0;34m,\u001b[0m \u001b[0;34m**\u001b[0m\u001b[0mk\u001b[0m\u001b[0;34m)\u001b[0m\u001b[0;34m\u001b[0m\u001b[0;34m\u001b[0m\u001b[0m\n\u001b[0m\u001b[1;32m    189\u001b[0m \u001b[0;34m\u001b[0m\u001b[0m\n\u001b[1;32m    190\u001b[0m         \u001b[0;32mif\u001b[0m \u001b[0mcallable\u001b[0m\u001b[0;34m(\u001b[0m\u001b[0marg\u001b[0m\u001b[0;34m)\u001b[0m\u001b[0;34m:\u001b[0m\u001b[0;34m\u001b[0m\u001b[0;34m\u001b[0m\u001b[0m\n",
      "\u001b[0;32m/Users/shirzart/.pyenv/versions/iBrus/lib/python3.7/site-packages/IPython/core/magics/execution.py\u001b[0m in \u001b[0;36mtime\u001b[0;34m(self, line, cell, local_ns)\u001b[0m\n\u001b[1;32m   1191\u001b[0m         \u001b[0;32melse\u001b[0m\u001b[0;34m:\u001b[0m\u001b[0;34m\u001b[0m\u001b[0;34m\u001b[0m\u001b[0m\n\u001b[1;32m   1192\u001b[0m             \u001b[0mst\u001b[0m \u001b[0;34m=\u001b[0m \u001b[0mclock2\u001b[0m\u001b[0;34m(\u001b[0m\u001b[0;34m)\u001b[0m\u001b[0;34m\u001b[0m\u001b[0;34m\u001b[0m\u001b[0m\n\u001b[0;32m-> 1193\u001b[0;31m             \u001b[0mexec\u001b[0m\u001b[0;34m(\u001b[0m\u001b[0mcode\u001b[0m\u001b[0;34m,\u001b[0m \u001b[0mglob\u001b[0m\u001b[0;34m,\u001b[0m \u001b[0mlocal_ns\u001b[0m\u001b[0;34m)\u001b[0m\u001b[0;34m\u001b[0m\u001b[0;34m\u001b[0m\u001b[0m\n\u001b[0m\u001b[1;32m   1194\u001b[0m             \u001b[0mend\u001b[0m \u001b[0;34m=\u001b[0m \u001b[0mclock2\u001b[0m\u001b[0;34m(\u001b[0m\u001b[0;34m)\u001b[0m\u001b[0;34m\u001b[0m\u001b[0;34m\u001b[0m\u001b[0m\n\u001b[1;32m   1195\u001b[0m             \u001b[0mout\u001b[0m \u001b[0;34m=\u001b[0m \u001b[0;32mNone\u001b[0m\u001b[0;34m\u001b[0m\u001b[0;34m\u001b[0m\u001b[0m\n",
      "\u001b[0;32m<timed exec>\u001b[0m in \u001b[0;36m<module>\u001b[0;34m()\u001b[0m\n",
      "\u001b[0;32m/Users/shirzart/.pyenv/versions/iBrus/lib/python3.7/site-packages/pymesh2-0.3-py3.7-macosx-10.14-x86_64.egg/pymesh/CSGTree.py\u001b[0m in \u001b[0;36m__init__\u001b[0;34m(self, tree)\u001b[0m\n\u001b[1;32m    113\u001b[0m             \u001b[0mself\u001b[0m\u001b[0;34m.\u001b[0m\u001b[0mtree\u001b[0m\u001b[0;34m.\u001b[0m\u001b[0mset_operand_1\u001b[0m\u001b[0;34m(\u001b[0m\u001b[0mchildren\u001b[0m\u001b[0;34m[\u001b[0m\u001b[0;36m0\u001b[0m\u001b[0;34m]\u001b[0m\u001b[0;34m.\u001b[0m\u001b[0mtree\u001b[0m\u001b[0;34m)\u001b[0m\u001b[0;34m\u001b[0m\u001b[0;34m\u001b[0m\u001b[0m\n\u001b[1;32m    114\u001b[0m             \u001b[0mself\u001b[0m\u001b[0;34m.\u001b[0m\u001b[0mtree\u001b[0m\u001b[0;34m.\u001b[0m\u001b[0mset_operand_2\u001b[0m\u001b[0;34m(\u001b[0m\u001b[0mchildren\u001b[0m\u001b[0;34m[\u001b[0m\u001b[0;36m1\u001b[0m\u001b[0;34m]\u001b[0m\u001b[0;34m.\u001b[0m\u001b[0mtree\u001b[0m\u001b[0;34m)\u001b[0m\u001b[0;34m\u001b[0m\u001b[0;34m\u001b[0m\u001b[0m\n\u001b[0;32m--> 115\u001b[0;31m             \u001b[0mself\u001b[0m\u001b[0;34m.\u001b[0m\u001b[0mtree\u001b[0m\u001b[0;34m.\u001b[0m\u001b[0mcompute_difference\u001b[0m\u001b[0;34m(\u001b[0m\u001b[0;34m)\u001b[0m\u001b[0;34m\u001b[0m\u001b[0;34m\u001b[0m\u001b[0m\n\u001b[0m\u001b[1;32m    116\u001b[0m         \u001b[0;32melif\u001b[0m \u001b[0;34m\"symmetric_difference\"\u001b[0m \u001b[0;32min\u001b[0m \u001b[0mtree\u001b[0m\u001b[0;34m:\u001b[0m\u001b[0;34m\u001b[0m\u001b[0;34m\u001b[0m\u001b[0m\n\u001b[1;32m    117\u001b[0m             children = [ CSGTree(subtree) for subtree in\n",
      "\u001b[0;31mKeyboardInterrupt\u001b[0m: "
     ]
    }
   ],
   "source": [
    "%%time\n",
    "for element in list_of_grain_dict:\n",
    "    CSG_iteration_tree = pymesh.CSGTree({'difference': [cube_block_dict, element]})\n",
    "    cube_block_dict = CSG_iteration_tree\n"
   ]
  },
  {
   "cell_type": "code",
   "execution_count": 72,
   "metadata": {},
   "outputs": [
    {
     "output_type": "stream",
     "name": "stdout",
     "text": [
      "CPU times: user 32 s, sys: 782 ms, total: 32.8 s\nWall time: 21.2 s\n"
     ]
    }
   ],
   "source": [
    "%%time \n",
    "CSG_grid_generation = pymesh.CSGTree({'union': list_of_grain_dict})\n",
    "CSG_entire_tree = pymesh.CSGTree({'difference': [cube_block_dict, CSG_grid_generation]})\n"
   ]
  },
  {
   "cell_type": "code",
   "execution_count": 65,
   "metadata": {},
   "outputs": [],
   "source": [
    "pymesh.save_mesh(\"pymesh_100grid_grain_difference.stl\", CSG_entire_tree .mesh)"
   ]
  },
  {
   "cell_type": "code",
   "execution_count": 55,
   "metadata": {},
   "outputs": [],
   "source": [
    "pymesh.save_mesh(\"25_grid_grain.stl\", CSG_grid_generation.mesh)"
   ]
  },
  {
   "cell_type": "code",
   "execution_count": 66,
   "metadata": {},
   "outputs": [
    {
     "output_type": "display_data",
     "data": {
      "text/plain": "Plot(antialias=3, axes=['x', 'y', 'z'], axes_helper=1.0, background_color=16777215, camera=[21.21596089278675,…",
      "application/vnd.jupyter.widget-view+json": {
       "version_major": 2,
       "version_minor": 0,
       "model_id": "0b66d42d69b34f218467d12465735e70"
      }
     },
     "metadata": {}
    }
   ],
   "source": [
    "vp = Plotter(shape=(1, 1), interactive=0, axes=3)\n",
    "vp.show(vp.load(\"pymesh_100grid_grain_difference.stl\"), at=0)"
   ]
  },
  {
   "cell_type": "code",
   "execution_count": 55,
   "metadata": {},
   "outputs": [
    {
     "output_type": "display_data",
     "data": {
      "text/plain": "<Figure size 432x288 with 1 Axes>",
      "image/png": "[encoded data removed]"
     },
     "metadata": {
      "needs_background": "light"
     }
    },
    {
     "output_type": "display_data",
     "data": {
      "text/plain": "<Figure size 432x288 with 0 Axes>"
     },
     "metadata": {}
    }
   ],
   "source": [
    "import matplotlib.pyplot as plt\n",
    "\n",
    "\n",
    "order_number = [1,2,3,4,5,6,7,8]\n",
    "runtime_collection = [0.6958577019999979, 0.7103802989999934, 0.9455233959999987, 1.6924205319999999, 4.420805658000006, 16.303753358999998, 70.07572872, 341.05427313]\n",
    "plt.figure()\n",
    "plt.plot(order_number, runtime_collection,'bs')\n",
    "plt.xlabel(\"number of orders of submesh from the original box\")\n",
    "plt.ylabel(\"run time in seconds\")\n",
    "plt.title(\"Pymesh Run time profiling for different order of submesh\")\n",
    "plt.show()\n",
    "plt.savefig(\"pymesh_runtime_submesh_scaling.png\")"
   ]
  },
  {
   "cell_type": "code",
   "execution_count": 56,
   "metadata": {},
   "outputs": [
    {
     "output_type": "display_data",
     "data": {
      "text/plain": "<Figure size 432x288 with 0 Axes>"
     },
     "metadata": {}
    }
   ],
   "source": [
    "plt.savefig(\"pymesh_runtime_submesh_scaling.png\")"
   ]
  },
  {
   "cell_type": "code",
   "execution_count": null,
   "metadata": {},
   "outputs": [],
   "source": []
  }
 ]
}