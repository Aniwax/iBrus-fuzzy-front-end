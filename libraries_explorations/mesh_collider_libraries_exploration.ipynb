{
 "cells": [
  {
   "cell_type": "markdown",
   "metadata": {},
   "source": [
    "# Collection of mesh collison libraries and example code taken from their website"
   ]
  },
  {
   "cell_type": "markdown",
   "metadata": {},
   "source": [
    "The underlying library to calculate collision is FCL library built in C. 1. The paper is here http://gamma.cs.unc.edu/FCL/fcl.pdf 2. The github is here https://github.com/flexible-collision-library/fcl"
   ]
  },
  {
   "source": [
    "## Trimesh"
   ],
   "cell_type": "markdown",
   "metadata": {}
  },
  {
   "cell_type": "code",
   "execution_count": null,
   "metadata": {
    "scrolled": true
   },
   "outputs": [],
   "source": [
    "import trimesh\n",
    "trimesh1 = trimesh.load(\"grains/Hexahedron.stl\")\n",
    "trimesh2 = trimesh.load(\"grains/Cuboctahedron.STL\")\n",
    "trimesh1.show()\n"
   ]
  },
  {
   "cell_type": "code",
   "execution_count": null,
   "metadata": {},
   "outputs": [],
   "source": [
    "trimesh2.apply_translation([10,10, 10])\n",
    "trimesh2.visual.vertex_colors = trimesh.visual.random_color()\n",
    "trimesh2.show()"
   ]
  },
  {
   "cell_type": "code",
   "execution_count": null,
   "metadata": {},
   "outputs": [],
   "source": [
    "trimesh1.is_watertight"
   ]
  },
  {
   "cell_type": "code",
   "execution_count": null,
   "metadata": {},
   "outputs": [],
   "source": [
    "for facet in trimesh1.facets:\n",
    "    trimesh1.visual.face_colors[facet] = trimesh.visual.random_color() \n",
    "trimesh1.show()"
   ]
  },
  {
   "cell_type": "code",
   "execution_count": null,
   "metadata": {
    "scrolled": true
   },
   "outputs": [],
   "source": [
    "# trimesh1 = trimesh.load(\"grains/Hexahedron.stl\")\n",
    "# trimesh2 = trimesh.load(\"grains/Cuboctahedron.STL\")\n",
    "trimesh2.apply_translation([-1,-1, -1])\n",
    "scene_2_meshes = trimesh.Scene([trimesh2,trimesh1])\n",
    "scene_2_meshes.show()\n",
    "# what's the euler number for the mesh?"
   ]
  },
  {
   "cell_type": "code",
   "execution_count": null,
   "metadata": {},
   "outputs": [],
   "source": [
    "trimesh.collision.scene_to_collision(scene_2_meshes)"
   ]
  },
  {
   "cell_type": "code",
   "execution_count": null,
   "metadata": {},
   "outputs": [],
   "source": [
    "mangr = trimesh.collision.CollisionManager()\n",
    "mangr.add_object (\"workpiece\", trimesh1, transform=None)\n",
    "mangr.add_object (\"grain\", trimesh2, transform=None)\n",
    "print(trimesh1.euler_number)\n",
    "print(trimesh1.bounding_box_oriented.volume, trimesh1.bounding_cylinder.volume, \n",
    "      trimesh1.bounding_sphere.volume)"
   ]
  },
  {
   "cell_type": "markdown",
   "metadata": {},
   "source": [
    "## Gimpact library example and tutorial\n",
    "\n",
    "Handbook: http://gimpact.sourceforge.net/manual/gimpact_manual.html#id108724\n",
    "http://gimpact.sourceforge.net/\n",
    "\n",
    "Apprently this library is not actively maintained."
   ]
  },
  {
   "cell_type": "code",
   "execution_count": null,
   "metadata": {
    "collapsed": true
   },
   "outputs": [],
   "source": [
    "# import gimpact\n",
    "# import numpy as np\n",
    "\n",
    "# contacts = gimpact.trimesh_trimesh_collision(trimesh1, trimesh2)\n",
    "# contacts = gimpact.trimesh_sphere_collision(trimesh1, [0., 0., 0.], 1, True)\n",
    "# contacts = gimpact.trimesh_capsule_collision(trimesh1, np.array([0., 0., 0.]), np.array([1., 0., 0.]), 1, True)\n",
    "# contacts = gimpact.trimesh_plane_collision(trimesh1, [0., 0., 1., 0.], True)"
   ]
  },
  {
   "cell_type": "markdown",
   "metadata": {},
   "source": [
    "## python-fcl library example \n",
    "Github repo: https://github.com/BerkeleyAutomation/python-fcl\n",
    "Github repo for fcl: https://github.com/flexible-collision-library/fcl\n"
   ]
  },
  {
   "cell_type": "code",
   "execution_count": null,
   "metadata": {},
   "outputs": [],
   "source": [
    "import numpy as np"
   ]
  },
  {
   "cell_type": "code",
   "execution_count": null,
   "metadata": {},
   "outputs": [],
   "source": [
    "import numpy as np\n",
    "import fcl\n",
    "\n",
    "v1 = np.array([1.0, 2.0, 3.0])\n",
    "v2 = np.array([2.0, 1.0, 3.0])\n",
    "v3 = np.array([3.0, 2.0, 1.0])\n",
    "x, y, z = 1, 2, 3\n",
    "rad, lz = 1.0, 3.0\n",
    "n = np.array([1.0, 0.0, 0.0])\n",
    "d = 5.0\n",
    "\n",
    "t = fcl.TriangleP(v1, v2, v3) # Triangle defined by three points\n",
    "b = fcl.Box(x, y, z)          # Axis-aligned box with given side lengths\n",
    "s = fcl.Sphere(rad)           # Sphere with given radius\n",
    "e = fcl.Ellipsoid(x, y, z)    # Axis-aligned ellipsoid with given radii\n",
    "c = fcl.Capsule(rad, lz)      # Capsule with given radius and height along z-axis\n",
    "c = fcl.Cone(rad, lz)         # Cone with given radius and cylinder height along z-axis\n",
    "c = fcl.Cylinder(rad, lz)     # Cylinder with given radius and height along z-axis\n",
    "h = fcl.Halfspace(n, d)       # Half-space defined by {x : <n, x> < d}\n",
    "p = fcl.Plane(n, d)           # Plane defined by {x : <n, x> = d}"
   ]
  },
  {
   "cell_type": "code",
   "execution_count": null,
   "metadata": {},
   "outputs": [],
   "source": [
    "verts = np.array([[1.0, 1.0, 1.0],\n",
    "                  [2.0, 1.0, 1.0],\n",
    "                  [1.0, 2.0, 1.0],\n",
    "                  [1.0, 1.0, 2.0]])\n",
    "tris  = np.array([[0,2,1],\n",
    "                  [0,3,2],\n",
    "                  [0,1,3],\n",
    "                  [1,2,3]])\n",
    "\n",
    "m = fcl.BVHModel()\n",
    "m.beginModel(len(verts), len(tris))\n",
    "m.addSubModel(verts, tris)\n",
    "m.endModel()"
   ]
  },
  {
   "cell_type": "markdown",
   "metadata": {},
   "source": [
    "Transforms: In addition to a CollisionGeometry, a CollisionObject requires a Transform, which tells FCL where the CollisionGeometry is actually located in the world. All Transform objects specify a rigid transformation (i.e. a rotation and a translation). The translation is always a 3-entry vector, while the rotation can be specified by a 3x3 rotation matrix or a 4-entry quaternion.\n",
    "\n",
    "Here are some examples of possible ways to instantiate and manipulate a Transform."
   ]
  },
  {
   "cell_type": "code",
   "execution_count": null,
   "metadata": {},
   "outputs": [],
   "source": [
    "R = np.array([[0.0, -1.0, 0.0],\n",
    "              [1.0,  0.0, 0.0],\n",
    "              [0.0,  0.0, 1.0]])\n",
    "T = np.array([1.0, 2.0, 3.0])\n",
    "q = np.array([0.707, 0.0, 0.0, 0.707])\n",
    "\n",
    "tf = fcl.Transform()     # Default gives identity transform\n",
    "tf = fcl.Transform(q)    # Quaternion rotation, zero translation\n",
    "tf = fcl.Transform(R)    # Matrix rotation, zero translation\n",
    "tf = fcl.Transform(T)    # Translation, identity rotation\n",
    "tf = fcl.Transform(q, T) # Quaternion rotation and translation\n",
    "tf = fcl.Transform(R, T) # Matrix rotation and translation\n",
    "tf1 = fcl.Transform(tf)  # Can also initialize with another Transform"
   ]
  },
  {
   "cell_type": "markdown",
   "metadata": {},
   "source": [
    "Now, given a CollisionGeometry and a Transform, we can create a CollisionObject:"
   ]
  },
  {
   "cell_type": "code",
   "execution_count": null,
   "metadata": {},
   "outputs": [],
   "source": [
    "t = fcl.Transform(R, T)\n",
    "b = fcl.Box(x, y, z)\n",
    "obj = fcl.CollisionObject(b, t)"
   ]
  },
  {
   "cell_type": "markdown",
   "metadata": {},
   "source": [
    "The transform of a collision object can be modified in-place:"
   ]
  },
  {
   "cell_type": "code",
   "execution_count": null,
   "metadata": {
    "collapsed": true
   },
   "outputs": [],
   "source": [
    "t1 = fcl.Transform(R, T)\n",
    "obj.setTransform(t1)   # Using a transform\n",
    "obj.setRotation(R2)    # Specifying components individually\n",
    "obj.setTranslation(T2)\n",
    "obj.setQuatRotation(q2)"
   ]
  },
  {
   "cell_type": "code",
   "execution_count": null,
   "metadata": {},
   "outputs": [],
   "source": [
    "# Collision Checking\n",
    "g1 = fcl.Box(1,2,3)\n",
    "t1 = fcl.Transform()\n",
    "o1 = fcl.CollisionObject(g1, t1)\n",
    "\n",
    "g2 = fcl.Cone(1,3)\n",
    "t2 = fcl.Transform()\n",
    "o2 = fcl.CollisionObject(g2, t2)\n",
    "\n",
    "request = fcl.CollisionRequest()\n",
    "result = fcl.CollisionResult()\n",
    "\n",
    "ret = fcl.collide(o1, o2, request, result)"
   ]
  },
  {
   "cell_type": "code",
   "execution_count": null,
   "metadata": {},
   "outputs": [],
   "source": [
    "result"
   ]
  },
  {
   "cell_type": "markdown",
   "metadata": {},
   "source": [
    "## Bullet and  PyBullet:\n",
    "Github repo: https://github.com/bulletphysics/bullet3\n",
    "Quick starter guide: https://docs.google.com/document/d/10sXEhzFRSnvFcl3XxNGhnD4N2SedqwdAvK3dsihxVUA/edit#heading=h.q1gn7v6o58bf\n"
   ]
  },
  {
   "cell_type": "code",
   "execution_count": null,
   "metadata": {},
   "outputs": [],
   "source": [
    "! which pip3"
   ]
  },
  {
   "cell_type": "code",
   "execution_count": null,
   "metadata": {},
   "outputs": [],
   "source": [
    "! pip3 install pybullet --upgrade\n"
   ]
  },
  {
   "cell_type": "code",
   "execution_count": null,
   "metadata": {},
   "outputs": [],
   "source": [
    "# ! python3 -m pybullet_envs.examples.enjoy_TF_AntBulletEnv_v0_2017may\n",
    "! python3 -m pybullet_envs.examples.enjoy_TF_HumanoidFlagrunHarderBulletEnv_v1_2017jul\n",
    "# ! python3 -m pybullet_envs.deep_mimic.testrl --arg_file run_humanoid3d_backflip_args.txt \n",
    "# This last example uses tensorfow and machine learning. So we don't need it for the moment."
   ]
  },
  {
   "cell_type": "code",
   "execution_count": null,
   "metadata": {
    "scrolled": false
   },
   "outputs": [],
   "source": [
    "! pip install gym # This is a package required for pybullet"
   ]
  },
  {
   "cell_type": "code",
   "execution_count": null,
   "metadata": {
    "scrolled": true
   },
   "outputs": [],
   "source": [
    "import pybullet as p\n",
    "import pybullet_data\n",
    "physicsClient = p.connect(p.DIRECT)#or p.DIRECT for non-graphical version\n",
    "p.setAdditionalSearchPath(pybullet_data.getDataPath()) #used by loadURDF\n",
    "p.setGravity(0,0,-10)\n",
    "planeId = p.loadURDF(\"plane.urdf\")\n",
    "cubeStartPos = [0,0,1]\n",
    "cubeStartOrientation = p.getQuaternionFromEuler([0,0,0])\n",
    "boxId = p.loadURDF(\"r2d2.urdf\",cubeStartPos, cubeStartOrientation)\n",
    "p.stepSimulation()\n",
    "cubePos, cubeOrn = p.getBasePositionAndOrientation(boxId)\n",
    "print(cubePos,cubeOrn)\n",
    "p.disconnect()"
   ]
  },
  {
   "cell_type": "code",
   "execution_count": null,
   "metadata": {},
   "outputs": [],
   "source": [
    "# This tutorial is taken from pybullet repo, snake.py:\n",
    "import pybullet as p\n",
    "import time\n",
    "import math\n",
    "\n",
    "# This simple snake logic is from some 15 year old Havok C++ demo\n",
    "# Thanks to Michael Ewert!\n",
    "import pybullet_data\n",
    "\n",
    "p.connect(p.GUI)\n",
    "p.setAdditionalSearchPath(pybullet_data.getDataPath())\n",
    "plane = p.createCollisionShape(p.GEOM_PLANE)\n",
    "\n",
    "p.createMultiBody(0, plane)\n",
    "\n",
    "useMaximalCoordinates = True\n",
    "sphereRadius = 0.25\n",
    "#colBoxId = p.createCollisionShapeArray([p.GEOM_BOX, p.GEOM_SPHERE],radii=[sphereRadius+0.03,sphereRadius+0.03], halfExtents=[[sphereRadius,sphereRadius,sphereRadius],[sphereRadius,sphereRadius,sphereRadius]])\n",
    "colBoxId = p.createCollisionShape(p.GEOM_BOX,\n",
    "                                  halfExtents=[sphereRadius, sphereRadius, sphereRadius])\n",
    "\n",
    "mass = 1\n",
    "visualShapeId = -1\n",
    "\n",
    "link_Masses = []\n",
    "linkCollisionShapeIndices = []\n",
    "linkVisualShapeIndices = []\n",
    "linkPositions = []\n",
    "linkOrientations = []\n",
    "linkInertialFramePositions = []\n",
    "linkInertialFrameOrientations = []\n",
    "indices = []\n",
    "jointTypes = []\n",
    "axis = []\n",
    "\n",
    "for i in range(36):\n",
    "  link_Masses.append(1)\n",
    "  linkCollisionShapeIndices.append(colBoxId)\n",
    "  linkVisualShapeIndices.append(-1)\n",
    "  linkPositions.append([0, sphereRadius * 2.0 + 0.01, 0])\n",
    "  linkOrientations.append([0, 0, 0, 1])\n",
    "  linkInertialFramePositions.append([0, 0, 0])\n",
    "  linkInertialFrameOrientations.append([0, 0, 0, 1])\n",
    "  indices.append(i)\n",
    "  jointTypes.append(p.JOINT_REVOLUTE)\n",
    "  axis.append([0, 0, 1])\n",
    "\n",
    "basePosition = [0, 0, 1]\n",
    "baseOrientation = [0, 0, 0, 1]\n",
    "sphereUid = p.createMultiBody(mass,\n",
    "                              colBoxId,\n",
    "                              visualShapeId,\n",
    "                              basePosition,\n",
    "                              baseOrientation,\n",
    "                              linkMasses=link_Masses,\n",
    "                              linkCollisionShapeIndices=linkCollisionShapeIndices,\n",
    "                              linkVisualShapeIndices=linkVisualShapeIndices,\n",
    "                              linkPositions=linkPositions,\n",
    "                              linkOrientations=linkOrientations,\n",
    "                              linkInertialFramePositions=linkInertialFramePositions,\n",
    "                              linkInertialFrameOrientations=linkInertialFrameOrientations,\n",
    "                              linkParentIndices=indices,\n",
    "                              linkJointTypes=jointTypes,\n",
    "                              linkJointAxis=axis,\n",
    "                              useMaximalCoordinates=useMaximalCoordinates)\n",
    "\n",
    "p.setGravity(0, 0, -10)\n",
    "p.setRealTimeSimulation(0)\n",
    "\n",
    "anistropicFriction = [1, 0.01, 0.01]\n",
    "p.changeDynamics(sphereUid, -1, lateralFriction=2, anisotropicFriction=anistropicFriction)\n",
    "p.getNumJoints(sphereUid)\n",
    "for i in range(p.getNumJoints(sphereUid)):\n",
    "  p.getJointInfo(sphereUid, i)\n",
    "  p.changeDynamics(sphereUid, i, lateralFriction=2, anisotropicFriction=anistropicFriction)\n",
    "\n",
    "dt = 1. / 240.\n",
    "SNAKE_NORMAL_PERIOD = 0.1  #1.5\n",
    "m_wavePeriod = SNAKE_NORMAL_PERIOD\n",
    "\n",
    "m_waveLength = 4\n",
    "m_wavePeriod = 1.5\n",
    "m_waveAmplitude = 0.4\n",
    "m_waveFront = 0.0\n",
    "#our steering value\n",
    "m_steering = 0.0\n",
    "m_segmentLength = sphereRadius * 2.0\n",
    "forward = 0\n",
    "\n",
    "while (1):\n",
    "  keys = p.getKeyboardEvents()\n",
    "  for k, v in keys.items():\n",
    "\n",
    "    if (k == p.B3G_RIGHT_ARROW and (v & p.KEY_WAS_TRIGGERED)):\n",
    "      m_steering = -.2\n",
    "    if (k == p.B3G_RIGHT_ARROW and (v & p.KEY_WAS_RELEASED)):\n",
    "      m_steering = 0\n",
    "    if (k == p.B3G_LEFT_ARROW and (v & p.KEY_WAS_TRIGGERED)):\n",
    "      m_steering = .2\n",
    "    if (k == p.B3G_LEFT_ARROW and (v & p.KEY_WAS_RELEASED)):\n",
    "      m_steering = 0\n",
    "\n",
    "  amp = 0.2\n",
    "  offset = 0.6\n",
    "  numMuscles = p.getNumJoints(sphereUid)\n",
    "  scaleStart = 1.0\n",
    "\n",
    "  #start of the snake with smaller waves.\n",
    "  #I think starting the wave at the tail would work better ( while it still goes from head to tail )\n",
    "  if (m_waveFront < m_segmentLength * 4.0):\n",
    "    scaleStart = m_waveFront / (m_segmentLength * 4.0)\n",
    "\n",
    "  segment = numMuscles - 1\n",
    "\n",
    "  #we simply move a sin wave down the body of the snake.\n",
    "  #this snake may be going backwards, but who can tell ;)\n",
    "  for joint in range(p.getNumJoints(sphereUid)):\n",
    "    segment = joint  #numMuscles-1-joint\n",
    "    #map segment to phase\n",
    "    phase = (m_waveFront - (segment + 1) * m_segmentLength) / m_waveLength\n",
    "    phase -= math.floor(phase)\n",
    "    phase *= math.pi * 2.0\n",
    "\n",
    "    #map phase to curvature\n",
    "    targetPos = math.sin(phase) * scaleStart * m_waveAmplitude\n",
    "\n",
    "    #// steer snake by squashing +ve or -ve side of sin curve\n",
    "    if (m_steering > 0 and targetPos < 0):\n",
    "      targetPos *= 1.0 / (1.0 + m_steering)\n",
    "\n",
    "    if (m_steering < 0 and targetPos > 0):\n",
    "      targetPos *= 1.0 / (1.0 - m_steering)\n",
    "\n",
    "    #set our motor\n",
    "    p.setJointMotorControl2(sphereUid,\n",
    "                            joint,\n",
    "                            p.POSITION_CONTROL,\n",
    "                            targetPosition=targetPos + m_steering,\n",
    "                            force=30)\n",
    "\n",
    "  #wave keeps track of where the wave is in time\n",
    "  m_waveFront += dt / m_wavePeriod * m_waveLength\n",
    "  p.stepSimulation()\n",
    "\n",
    "  time.sleep(dt)"
   ]
  },
  {
   "cell_type": "code",
   "execution_count": null,
   "metadata": {},
   "outputs": [],
   "source": [
    "# bullet3/examples/pybullet/examples/collisionFilter.py \n",
    "import pybullet as p\n",
    "import time\n",
    "import pybullet_data\n",
    "\n",
    "p.connect(p.GUI)\n",
    "p.setAdditionalSearchPath(pybullet_data.getDataPath())\n",
    "planeId = p.loadURDF(\"plane.urdf\", useMaximalCoordinates=False)\n",
    "cubeId = p.loadURDF(\"cube_collisionfilter.urdf\", [0, 0, 3], useMaximalCoordinates=False)\n",
    "\n",
    "collisionFilterGroup = 0\n",
    "collisionFilterMask = 0\n",
    "p.setCollisionFilterGroupMask(cubeId, -1, collisionFilterGroup, collisionFilterMask)\n",
    "\n",
    "enableCollision = 1\n",
    "p.setCollisionFilterPair(planeId, cubeId, -1, -1, enableCollision)\n",
    "\n",
    "p.setRealTimeSimulation(1)\n",
    "p.setGravity(0, 0, -10)\n",
    "while (p.isConnected()):\n",
    "  time.sleep(1. / 240.)\n",
    "  p.setGravity(0, 0, -10)"
   ]
  },
  {
   "cell_type": "code",
   "execution_count": null,
   "metadata": {
    "collapsed": true
   },
   "outputs": [],
   "source": [
    "# bullet3/examples/pybullet/examples/createMesh.py /\n",
    "import pybullet as p\n",
    "import time\n",
    "import math\n",
    "import pybullet_data\n",
    "\n",
    "p.connect(p.GUI)\n",
    "p.setAdditionalSearchPath(pybullet_data.getDataPath())\n",
    "#don't create a ground plane, to allow for gaps etc\n",
    "p.resetSimulation()\n",
    "#p.createCollisionShape(p.GEOM_PLANE)\n",
    "#p.createMultiBody(0,0)\n",
    "#p.resetDebugVisualizerCamera(5,75,-26,[0,0,1]);\n",
    "p.resetDebugVisualizerCamera(15, -346, -16, [-15, 0, 1])\n",
    "\n",
    "p.configureDebugVisualizer(p.COV_ENABLE_RENDERING, 0)\n",
    "\n",
    "sphereRadius = 0.05\n",
    "colSphereId = p.createCollisionShape(p.GEOM_SPHERE, radius=sphereRadius)\n",
    "\n",
    "#a few different ways to create a mesh:\n",
    "\n",
    "vertices = [[-0.246350, -0.246483, -0.000624], [-0.151407, -0.176325, 0.172867],\n",
    "            [-0.246350, 0.249205, -0.000624], [-0.151407, 0.129477, 0.172867],\n",
    "            [0.249338, -0.246483, -0.000624], [0.154395, -0.176325, 0.172867],\n",
    "            [0.249338, 0.249205, -0.000624], [0.154395, 0.129477, 0.172867]]\n",
    "indices = [\n",
    "    0, 3, 2, 3, 6, 2, 7, 4, 6, 5, 0, 4, 6, 0, 2, 3, 5, 7, 0, 1, 3, 3, 7, 6, 7, 5, 4, 5, 1, 0, 6, 4,\n",
    "    0, 3, 1, 5\n",
    "]\n",
    "#convex mesh from obj\n",
    "stoneId = p.createCollisionShape(p.GEOM_MESH, vertices=vertices, indices=indices)\n",
    "\n",
    "boxHalfLength = 0.5\n",
    "boxHalfWidth = 2.5\n",
    "boxHalfHeight = 0.1\n",
    "segmentLength = 5\n",
    "\n",
    "colBoxId = p.createCollisionShape(p.GEOM_BOX,\n",
    "                                  halfExtents=[boxHalfLength, boxHalfWidth, boxHalfHeight])\n",
    "\n",
    "mass = 1\n",
    "visualShapeId = -1\n",
    "\n",
    "segmentStart = 0\n",
    "\n",
    "for i in range(segmentLength):\n",
    "  p.createMultiBody(baseMass=0,\n",
    "                    baseCollisionShapeIndex=colBoxId,\n",
    "                    basePosition=[segmentStart, 0, -0.1])\n",
    "  segmentStart = segmentStart - 1\n",
    "\n",
    "for i in range(segmentLength):\n",
    "  height = 0\n",
    "  if (i % 2):\n",
    "    height = 1\n",
    "  p.createMultiBody(baseMass=0,\n",
    "                    baseCollisionShapeIndex=colBoxId,\n",
    "                    basePosition=[segmentStart, 0, -0.1 + height])\n",
    "  segmentStart = segmentStart - 1\n",
    "\n",
    "baseOrientation = p.getQuaternionFromEuler([math.pi / 2., 0, math.pi / 2.])\n",
    "\n",
    "for i in range(segmentLength):\n",
    "  p.createMultiBody(baseMass=0,\n",
    "                    baseCollisionShapeIndex=colBoxId,\n",
    "                    basePosition=[segmentStart, 0, -0.1])\n",
    "  segmentStart = segmentStart - 1\n",
    "  if (i % 2):\n",
    "    p.createMultiBody(baseMass=0,\n",
    "                      baseCollisionShapeIndex=colBoxId,\n",
    "                      basePosition=[segmentStart, i % 3, -0.1 + height + boxHalfWidth],\n",
    "                      baseOrientation=baseOrientation)\n",
    "\n",
    "for i in range(segmentLength):\n",
    "  p.createMultiBody(baseMass=0,\n",
    "                    baseCollisionShapeIndex=colBoxId,\n",
    "                    basePosition=[segmentStart, 0, -0.1])\n",
    "  width = 4\n",
    "  for j in range(width):\n",
    "    p.createMultiBody(baseMass=0,\n",
    "                      baseCollisionShapeIndex=stoneId,\n",
    "                      basePosition=[segmentStart, 0.5 * (i % 2) + j - width / 2., 0])\n",
    "  segmentStart = segmentStart - 1\n",
    "\n",
    "link_Masses = [1]\n",
    "linkCollisionShapeIndices = [colBoxId]\n",
    "linkVisualShapeIndices = [-1]\n",
    "linkPositions = [[0, 0, 0]]\n",
    "linkOrientations = [[0, 0, 0, 1]]\n",
    "linkInertialFramePositions = [[0, 0, 0]]\n",
    "linkInertialFrameOrientations = [[0, 0, 0, 1]]\n",
    "indices = [0]\n",
    "jointTypes = [p.JOINT_REVOLUTE]\n",
    "axis = [[1, 0, 0]]\n",
    "\n",
    "baseOrientation = [0, 0, 0, 1]\n",
    "for i in range(segmentLength):\n",
    "  boxId = p.createMultiBody(0,\n",
    "                            colSphereId,\n",
    "                            -1, [segmentStart, 0, -0.1],\n",
    "                            baseOrientation,\n",
    "                            linkMasses=link_Masses,\n",
    "                            linkCollisionShapeIndices=linkCollisionShapeIndices,\n",
    "                            linkVisualShapeIndices=linkVisualShapeIndices,\n",
    "                            linkPositions=linkPositions,\n",
    "                            linkOrientations=linkOrientations,\n",
    "                            linkInertialFramePositions=linkInertialFramePositions,\n",
    "                            linkInertialFrameOrientations=linkInertialFrameOrientations,\n",
    "                            linkParentIndices=indices,\n",
    "                            linkJointTypes=jointTypes,\n",
    "                            linkJointAxis=axis)\n",
    "  p.changeDynamics(boxId, -1, spinningFriction=0.001, rollingFriction=0.001, linearDamping=0.0)\n",
    "  print(p.getNumJoints(boxId))\n",
    "  for joint in range(p.getNumJoints(boxId)):\n",
    "    targetVelocity = 10\n",
    "    if (i % 2):\n",
    "      targetVelocity = -10\n",
    "    p.setJointMotorControl2(boxId,\n",
    "                            joint,\n",
    "                            p.VELOCITY_CONTROL,\n",
    "                            targetVelocity=targetVelocity,\n",
    "                            force=100)\n",
    "  segmentStart = segmentStart - 1.1\n",
    "\n",
    "p.configureDebugVisualizer(p.COV_ENABLE_RENDERING, 1)\n",
    "while (1):\n",
    "  camData = p.getDebugVisualizerCamera()\n",
    "  viewMat = camData[2]\n",
    "  projMat = camData[3]\n",
    "  p.getCameraImage(256,\n",
    "                   256,\n",
    "                   viewMatrix=viewMat,\n",
    "                   projectionMatrix=projMat,\n",
    "                   renderer=p.ER_BULLET_HARDWARE_OPENGL)\n",
    "  keys = p.getKeyboardEvents()\n",
    "  p.stepSimulation()\n",
    "  #print(keys)\n",
    "  time.sleep(0.01)"
   ]
  },
  {
   "cell_type": "markdown",
   "metadata": {},
   "source": [
    "## ODE: The open dynamics engine (ODE)\n",
    "\n",
    "1. Bitbucket repo: https://bitbucket.org/odedevs/ode/src/master/\n",
    "2. This ODE is based on C. There are several pythin bindng to this library. \n",
    "3. The candiadate pythin binding to research on is: "
   ]
  },
  {
   "cell_type": "code",
   "execution_count": null,
   "metadata": {},
   "outputs": [],
   "source": [
    "from direct.directbase import DirectStart\n",
    "from panda3d.ode import OdeWorld, OdeSimpleSpace, OdeJointGroup\n",
    "from panda3d.ode import OdeBody, OdeMass, OdeBoxGeom, OdePlaneGeom\n",
    "from panda3d.core import BitMask32, CardMaker, Vec4, Quat\n",
    "from random import randint, random\n",
    "\n",
    "# Setup our physics world\n",
    "world = OdeWorld()\n",
    "world.setGravity(0, 0, -9.81)\n",
    "\n",
    "# The surface table is needed for autoCollide\n",
    "world.initSurfaceTable(1)\n",
    "world.setSurfaceEntry(0, 0, 150, 0.0, 9.1, 0.9, 0.00001, 0.0, 0.002)\n",
    "\n",
    "# Create a space and add a contactgroup to it to add the contact joints\n",
    "space = OdeSimpleSpace()\n",
    "space.setAutoCollideWorld(world)\n",
    "contactgroup = OdeJointGroup()\n",
    "space.setAutoCollideJointGroup(contactgroup)\n",
    "\n",
    "# Load the box\n",
    "box = loader.loadModel(\"box\")\n",
    "# Make sure its center is at 0, 0, 0 like OdeBoxGeom\n",
    "box.setPos(-.5, -.5, -.5)\n",
    "box.flattenLight() # Apply transform\n",
    "box.setTextureOff()\n",
    "\n",
    "# Add a random amount of boxes\n",
    "boxes = []\n",
    "for i in range(randint(15, 30)):\n",
    "    # Setup the geometry\n",
    "    boxNP = box.copyTo(render)\n",
    "    boxNP.setPos(randint(-10, 10), randint(-10, 10), 10 + random())\n",
    "    boxNP.setColor(random(), random(), random(), 1)\n",
    "    boxNP.setHpr(randint(-45, 45), randint(-45, 45), randint(-45, 45))\n",
    "    # Create the body and set the mass\n",
    "    boxBody = OdeBody(world)\n",
    "    M = OdeMass()\n",
    "    M.setBox(50, 1, 1, 1)\n",
    "    boxBody.setMass(M)\n",
    "    boxBody.setPosition(boxNP.getPos(render))\n",
    "    boxBody.setQuaternion(boxNP.getQuat(render))\n",
    "    # Create a BoxGeom\n",
    "    boxGeom = OdeBoxGeom(space, 1, 1, 1)\n",
    "    boxGeom.setCollideBits(BitMask32(0x00000002))\n",
    "    boxGeom.setCategoryBits(BitMask32(0x00000001))\n",
    "    boxGeom.setBody(boxBody)\n",
    "    boxes.append((boxNP, boxBody))\n",
    "\n",
    "# Add a plane to collide with\n",
    "cm = CardMaker(\"ground\")\n",
    "cm.setFrame(-20, 20, -20, 20)\n",
    "ground = render.attachNewNode(cm.generate())\n",
    "ground.setPos(0, 0, 0); ground.lookAt(0, 0, -1)\n",
    "groundGeom = OdePlaneGeom(space, Vec4(0, 0, 1, 0))\n",
    "groundGeom.setCollideBits(BitMask32(0x00000001))\n",
    "groundGeom.setCategoryBits(BitMask32(0x00000002))\n",
    "\n",
    "# Set the camera position\n",
    "base.disableMouse()\n",
    "base.camera.setPos(40, 40, 20)\n",
    "base.camera.lookAt(0, 0, 0)\n",
    "\n",
    "# The task for our simulation\n",
    "def simulationTask(task):\n",
    "    space.autoCollide() # Setup the contact joints\n",
    "    # Step the simulation and set the new positions\n",
    "    world.quickStep(globalClock.getDt())\n",
    "    for np, body in boxes:\n",
    "        np.setPosQuat(render, body.getPosition(), Quat(body.getQuaternion()))\n",
    "    contactgroup.empty() # Clear the contact joints\n",
    "    return task.cont\n",
    "\n",
    "# Wait a split second, then start the simulation\n",
    "taskMgr.doMethodLater(0.5, simulationTask, \"Physics Simulation\")\n",
    "\n",
    "base.run()"
   ]
  }
 ],
 "metadata": {
  "kernelspec": {
   "name": "python3",
   "display_name": "Python 3.7.5 64-bit ('iBrus')",
   "metadata": {
    "interpreter": {
     "hash": "72d30dc0c526e9a9e27776afd4c4229b75576606989f345312ef0e8fc67d3490"
    }
   }
  },
  "language_info": {
   "codemirror_mode": {
    "name": "ipython",
    "version": 3
   },
   "file_extension": ".py",
   "mimetype": "text/x-python",
   "name": "python",
   "nbconvert_exporter": "python",
   "pygments_lexer": "ipython3",
   "version": "3.7.5-final"
  }
 },
 "nbformat": 4,
 "nbformat_minor": 4
}